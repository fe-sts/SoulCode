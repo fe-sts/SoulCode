{
  "nbformat": 4,
  "nbformat_minor": 0,
  "metadata": {
    "colab": {
      "name": "PF_Pyspark_stack_overflow_2021.ipynb",
      "provenance": [],
      "collapsed_sections": [
        "T8RKHWjWDXWh",
        "Vwux9QJzih6e",
        "4xxwdeEpR8Zm",
        "ULaHYJOrNClm"
      ]
    },
    "kernelspec": {
      "name": "python3",
      "display_name": "Python 3"
    },
    "language_info": {
      "name": "python"
    }
  },
  "cells": [
    {
      "cell_type": "markdown",
      "source": [
        "# Instalações Iniciais\n",
        "\n",
        "---"
      ],
      "metadata": {
        "id": "T8RKHWjWDXWh"
      }
    },
    {
      "cell_type": "markdown",
      "source": [
        "Pyspark\n",
        "\n",
        "---\n",
        "\n"
      ],
      "metadata": {
        "id": "DfVnhcccDlzO"
      }
    },
    {
      "cell_type": "code",
      "source": [
        "!pip install Pyspark"
      ],
      "metadata": {
        "colab": {
          "base_uri": "https://localhost:8080/"
        },
        "id": "PgRL5rk6_yZE",
        "outputId": "9afad361-ee9a-4283-8f16-0c1a0babaaae"
      },
      "execution_count": null,
      "outputs": [
        {
          "output_type": "stream",
          "name": "stdout",
          "text": [
            "Requirement already satisfied: Pyspark in /usr/local/lib/python3.7/dist-packages (3.2.1)\n",
            "Requirement already satisfied: py4j==0.10.9.3 in /usr/local/lib/python3.7/dist-packages (from Pyspark) (0.10.9.3)\n"
          ]
        }
      ]
    },
    {
      "cell_type": "code",
      "source": [
        "from pyspark.sql import SparkSession\n",
        "from pyspark import SparkConf\n",
        "import pyspark.sql.functions as F\n",
        "from pyspark.sql.types import *"
      ],
      "metadata": {
        "id": "LK6ezsjy_zBy"
      },
      "execution_count": null,
      "outputs": []
    },
    {
      "cell_type": "markdown",
      "source": [
        "GCP\n",
        "\n",
        "---\n",
        "\n"
      ],
      "metadata": {
        "id": "t3HOSLEpDjrn"
      }
    },
    {
      "cell_type": "code",
      "source": [
        "!pip install gcsfs "
      ],
      "metadata": {
        "colab": {
          "base_uri": "https://localhost:8080/"
        },
        "id": "TzPE7GEjAMMT",
        "outputId": "fd402903-c268-4a81-d21e-c27f29505f3a"
      },
      "execution_count": null,
      "outputs": [
        {
          "output_type": "stream",
          "name": "stdout",
          "text": [
            "Requirement already satisfied: gcsfs in /usr/local/lib/python3.7/dist-packages (2022.3.0)\n",
            "Requirement already satisfied: google-cloud-storage in /usr/local/lib/python3.7/dist-packages (from gcsfs) (1.18.1)\n",
            "Requirement already satisfied: decorator>4.1.2 in /usr/local/lib/python3.7/dist-packages (from gcsfs) (4.4.2)\n",
            "Requirement already satisfied: fsspec==2022.3.0 in /usr/local/lib/python3.7/dist-packages (from gcsfs) (2022.3.0)\n",
            "Requirement already satisfied: aiohttp<4 in /usr/local/lib/python3.7/dist-packages (from gcsfs) (3.8.1)\n",
            "Requirement already satisfied: google-auth-oauthlib in /usr/local/lib/python3.7/dist-packages (from gcsfs) (0.4.6)\n",
            "Requirement already satisfied: google-auth>=1.2 in /usr/local/lib/python3.7/dist-packages (from gcsfs) (1.35.0)\n",
            "Requirement already satisfied: requests in /usr/local/lib/python3.7/dist-packages (from gcsfs) (2.23.0)\n",
            "Requirement already satisfied: yarl<2.0,>=1.0 in /usr/local/lib/python3.7/dist-packages (from aiohttp<4->gcsfs) (1.7.2)\n",
            "Requirement already satisfied: aiosignal>=1.1.2 in /usr/local/lib/python3.7/dist-packages (from aiohttp<4->gcsfs) (1.2.0)\n",
            "Requirement already satisfied: frozenlist>=1.1.1 in /usr/local/lib/python3.7/dist-packages (from aiohttp<4->gcsfs) (1.3.0)\n",
            "Requirement already satisfied: multidict<7.0,>=4.5 in /usr/local/lib/python3.7/dist-packages (from aiohttp<4->gcsfs) (6.0.2)\n",
            "Requirement already satisfied: charset-normalizer<3.0,>=2.0 in /usr/local/lib/python3.7/dist-packages (from aiohttp<4->gcsfs) (2.0.12)\n",
            "Requirement already satisfied: asynctest==0.13.0 in /usr/local/lib/python3.7/dist-packages (from aiohttp<4->gcsfs) (0.13.0)\n",
            "Requirement already satisfied: attrs>=17.3.0 in /usr/local/lib/python3.7/dist-packages (from aiohttp<4->gcsfs) (21.4.0)\n",
            "Requirement already satisfied: async-timeout<5.0,>=4.0.0a3 in /usr/local/lib/python3.7/dist-packages (from aiohttp<4->gcsfs) (4.0.2)\n",
            "Requirement already satisfied: typing-extensions>=3.7.4 in /usr/local/lib/python3.7/dist-packages (from aiohttp<4->gcsfs) (3.10.0.2)\n",
            "Requirement already satisfied: cachetools<5.0,>=2.0.0 in /usr/local/lib/python3.7/dist-packages (from google-auth>=1.2->gcsfs) (4.2.4)\n",
            "Requirement already satisfied: rsa<5,>=3.1.4 in /usr/local/lib/python3.7/dist-packages (from google-auth>=1.2->gcsfs) (4.8)\n",
            "Requirement already satisfied: pyasn1-modules>=0.2.1 in /usr/local/lib/python3.7/dist-packages (from google-auth>=1.2->gcsfs) (0.2.8)\n",
            "Requirement already satisfied: six>=1.9.0 in /usr/local/lib/python3.7/dist-packages (from google-auth>=1.2->gcsfs) (1.15.0)\n",
            "Requirement already satisfied: setuptools>=40.3.0 in /usr/local/lib/python3.7/dist-packages (from google-auth>=1.2->gcsfs) (57.4.0)\n",
            "Requirement already satisfied: pyasn1<0.5.0,>=0.4.6 in /usr/local/lib/python3.7/dist-packages (from pyasn1-modules>=0.2.1->google-auth>=1.2->gcsfs) (0.4.8)\n",
            "Requirement already satisfied: idna>=2.0 in /usr/local/lib/python3.7/dist-packages (from yarl<2.0,>=1.0->aiohttp<4->gcsfs) (2.10)\n",
            "Requirement already satisfied: requests-oauthlib>=0.7.0 in /usr/local/lib/python3.7/dist-packages (from google-auth-oauthlib->gcsfs) (1.3.1)\n",
            "Requirement already satisfied: oauthlib>=3.0.0 in /usr/local/lib/python3.7/dist-packages (from requests-oauthlib>=0.7.0->google-auth-oauthlib->gcsfs) (3.2.0)\n",
            "Requirement already satisfied: urllib3!=1.25.0,!=1.25.1,<1.26,>=1.21.1 in /usr/local/lib/python3.7/dist-packages (from requests->gcsfs) (1.24.3)\n",
            "Requirement already satisfied: chardet<4,>=3.0.2 in /usr/local/lib/python3.7/dist-packages (from requests->gcsfs) (3.0.4)\n",
            "Requirement already satisfied: certifi>=2017.4.17 in /usr/local/lib/python3.7/dist-packages (from requests->gcsfs) (2021.10.8)\n",
            "Requirement already satisfied: google-cloud-core<2.0dev,>=1.0.0 in /usr/local/lib/python3.7/dist-packages (from google-cloud-storage->gcsfs) (1.0.3)\n",
            "Requirement already satisfied: google-resumable-media<0.5.0dev,>=0.3.1 in /usr/local/lib/python3.7/dist-packages (from google-cloud-storage->gcsfs) (0.4.1)\n",
            "Requirement already satisfied: google-api-core<2.0.0dev,>=1.14.0 in /usr/local/lib/python3.7/dist-packages (from google-cloud-core<2.0dev,>=1.0.0->google-cloud-storage->gcsfs) (1.26.3)\n",
            "Requirement already satisfied: googleapis-common-protos<2.0dev,>=1.6.0 in /usr/local/lib/python3.7/dist-packages (from google-api-core<2.0.0dev,>=1.14.0->google-cloud-core<2.0dev,>=1.0.0->google-cloud-storage->gcsfs) (1.56.0)\n",
            "Requirement already satisfied: pytz in /usr/local/lib/python3.7/dist-packages (from google-api-core<2.0.0dev,>=1.14.0->google-cloud-core<2.0dev,>=1.0.0->google-cloud-storage->gcsfs) (2018.9)\n",
            "Requirement already satisfied: packaging>=14.3 in /usr/local/lib/python3.7/dist-packages (from google-api-core<2.0.0dev,>=1.14.0->google-cloud-core<2.0dev,>=1.0.0->google-cloud-storage->gcsfs) (21.3)\n",
            "Requirement already satisfied: protobuf>=3.12.0 in /usr/local/lib/python3.7/dist-packages (from google-api-core<2.0.0dev,>=1.14.0->google-cloud-core<2.0dev,>=1.0.0->google-cloud-storage->gcsfs) (3.17.3)\n",
            "Requirement already satisfied: pyparsing!=3.0.5,>=2.0.2 in /usr/local/lib/python3.7/dist-packages (from packaging>=14.3->google-api-core<2.0.0dev,>=1.14.0->google-cloud-core<2.0dev,>=1.0.0->google-cloud-storage->gcsfs) (3.0.7)\n"
          ]
        }
      ]
    },
    {
      "cell_type": "code",
      "source": [
        "from google.colab import drive \n",
        "from google.cloud import storage\n",
        "import os"
      ],
      "metadata": {
        "id": "hib40pZqAVY8"
      },
      "execution_count": null,
      "outputs": []
    },
    {
      "cell_type": "markdown",
      "source": [
        "Pandas\n",
        "\n",
        "---\n",
        "\n"
      ],
      "metadata": {
        "id": "E8y8jTXMDhzm"
      }
    },
    {
      "cell_type": "code",
      "source": [
        "!pip install pandera"
      ],
      "metadata": {
        "id": "GYz8AuYQDgsV",
        "colab": {
          "base_uri": "https://localhost:8080/"
        },
        "outputId": "34e2a13a-e6cc-4d4c-a85b-56df808dc99f"
      },
      "execution_count": null,
      "outputs": [
        {
          "output_type": "stream",
          "name": "stdout",
          "text": [
            "Requirement already satisfied: pandera in /usr/local/lib/python3.7/dist-packages (0.9.0)\n",
            "Requirement already satisfied: typing-inspect>=0.6.0 in /usr/local/lib/python3.7/dist-packages (from pandera) (0.7.1)\n",
            "Requirement already satisfied: wrapt in /usr/local/lib/python3.7/dist-packages (from pandera) (1.14.0)\n",
            "Requirement already satisfied: pydantic in /usr/local/lib/python3.7/dist-packages (from pandera) (1.9.0)\n",
            "Requirement already satisfied: pyarrow in /usr/local/lib/python3.7/dist-packages (from pandera) (6.0.1)\n",
            "Requirement already satisfied: typing-extensions>=3.7.4.3 in /usr/local/lib/python3.7/dist-packages (from pandera) (3.10.0.2)\n",
            "Requirement already satisfied: packaging>=20.0 in /usr/local/lib/python3.7/dist-packages (from pandera) (21.3)\n",
            "Requirement already satisfied: numpy>=1.9.0 in /usr/local/lib/python3.7/dist-packages (from pandera) (1.21.5)\n",
            "Requirement already satisfied: pandas>=1.0 in /usr/local/lib/python3.7/dist-packages (from pandera) (1.3.5)\n",
            "Requirement already satisfied: pyparsing!=3.0.5,>=2.0.2 in /usr/local/lib/python3.7/dist-packages (from packaging>=20.0->pandera) (3.0.7)\n",
            "Requirement already satisfied: pytz>=2017.3 in /usr/local/lib/python3.7/dist-packages (from pandas>=1.0->pandera) (2018.9)\n",
            "Requirement already satisfied: python-dateutil>=2.7.3 in /usr/local/lib/python3.7/dist-packages (from pandas>=1.0->pandera) (2.8.2)\n",
            "Requirement already satisfied: six>=1.5 in /usr/local/lib/python3.7/dist-packages (from python-dateutil>=2.7.3->pandas>=1.0->pandera) (1.15.0)\n",
            "Requirement already satisfied: mypy-extensions>=0.3.0 in /usr/local/lib/python3.7/dist-packages (from typing-inspect>=0.6.0->pandera) (0.4.3)\n"
          ]
        }
      ]
    },
    {
      "cell_type": "code",
      "source": [
        "import pandas as pd\n",
        "import pandera as pa\n",
        "import numpy as np\n",
        "import re\n",
        "# re -> para usar a flag 'ignorecase'"
      ],
      "metadata": {
        "id": "7eJUtjCaDgsW"
      },
      "execution_count": null,
      "outputs": []
    },
    {
      "cell_type": "markdown",
      "source": [
        "#Pandas\n",
        "\n",
        "---\n"
      ],
      "metadata": {
        "id": "Vwux9QJzih6e"
      }
    },
    {
      "cell_type": "markdown",
      "source": [
        "Buscando Csv Tratado na GCP\n",
        "\n",
        "---\n",
        "\n"
      ],
      "metadata": {
        "id": "5H7y7t7x7rc5"
      }
    },
    {
      "cell_type": "code",
      "execution_count": null,
      "metadata": {
        "id": "JO4M6ew_yUPm"
      },
      "outputs": [],
      "source": [
        "df_pandas = pd.read_csv('https://storage.googleapis.com/projeto-final/Data_Frame_tratado_Stack/projFinalStack.csv', sep =',')"
      ]
    },
    {
      "cell_type": "code",
      "source": [
        "pd.set_option('max_columns', None)"
      ],
      "metadata": {
        "id": "15WkFksQ1P2g"
      },
      "execution_count": null,
      "outputs": []
    },
    {
      "cell_type": "code",
      "source": [
        "df_pandas"
      ],
      "metadata": {
        "colab": {
          "base_uri": "https://localhost:8080/"
        },
        "id": "kZ5bW2X-kXkF",
        "outputId": "07e3152f-c1fe-400d-9121-ccbd58326031"
      },
      "execution_count": null,
      "outputs": [
        {
          "output_type": "execute_result",
          "data": {
            "text/plain": [
              "          Id                                        AreaAtuacao  \\\n",
              "0          1                         desenvolvedor profissional   \n",
              "1          2                   estudante aprendendo a programar   \n",
              "2          3  nao sou desenvolvedor mas as vezes programo co...   \n",
              "3          4                         desenvolvedor profissional   \n",
              "4          5                         desenvolvedor profissional   \n",
              "...      ...                                                ...   \n",
              "83434  83435                         desenvolvedor profissional   \n",
              "83435  83436                         desenvolvedor profissional   \n",
              "83436  83437                         desenvolvedor profissional   \n",
              "83437  83438                         desenvolvedor profissional   \n",
              "83438  83439                         desenvolvedor profissional   \n",
              "\n",
              "                                             Emprego  \\\n",
              "0      contrato independente, freelancer ou autonomo   \n",
              "1                           estudante tempo integral   \n",
              "2                           estudante tempo integral   \n",
              "3                           empregado tempo integral   \n",
              "4      contrato independente, freelancer ou autonomo   \n",
              "...                                              ...   \n",
              "83434                       empregado tempo integral   \n",
              "83435  contrato independente, freelancer ou autonomo   \n",
              "83436                       empregado tempo integral   \n",
              "83437                       empregado tempo integral   \n",
              "83438                       empregado tempo integral   \n",
              "\n",
              "                            Pais        Escolaridade  AnosProg  AnosProgProf  \\\n",
              "0                     Eslovaquia        ensino medio       NaN           NaN   \n",
              "1                        Holanda  graduacao completa       7.0           NaN   \n",
              "2                Federacao Russa  graduacao completa       NaN           NaN   \n",
              "3                        Austria            mestrado       NaN           NaN   \n",
              "4                    Reino Unido            mestrado      17.0          10.0   \n",
              "...                          ...                 ...       ...           ...   \n",
              "83434  Estados Unidos da America  graduacao completa       6.0           5.0   \n",
              "83435                      Benim  graduacao completa       4.0           2.0   \n",
              "83436  Estados Unidos da America        ensino medio      10.0           4.0   \n",
              "83437                     Canada  graduacao completa       5.0           3.0   \n",
              "83438                     Brasil  profissionalizante      14.0           4.0   \n",
              "\n",
              "                                          LingJaTrab  \\\n",
              "0      C++;HTML/CSS;JavaScript;Objective-C;PHP;Swift   \n",
              "1                                  JavaScript;Python   \n",
              "2                           Assembly;C;Python;R;Rust   \n",
              "3                              JavaScript;TypeScript   \n",
              "4                     Bash/Shell;HTML/CSS;Python;SQL   \n",
              "...                                              ...   \n",
              "83434                             Clojure;Kotlin;SQL   \n",
              "83435                                            NaN   \n",
              "83436                             Groovy;Java;Python   \n",
              "83437           Bash/Shell;JavaScript;Node.js;Python   \n",
              "83438         Delphi;Elixir;HTML/CSS;Java;JavaScript   \n",
              "\n",
              "                                               BDJaTrab  \\\n",
              "0                                     PostgreSQL;SQLite   \n",
              "1                                            PostgreSQL   \n",
              "2                                                SQLite   \n",
              "3                                                   NaN   \n",
              "4                        Elasticsearch;PostgreSQL;Redis   \n",
              "...                                                 ...   \n",
              "83434                                     Oracle;SQLite   \n",
              "83435    Firebase;MariaDB;MySQL;PostgreSQL;Redis;SQLite   \n",
              "83436   DynamoDB;Elasticsearch;MongoDB;PostgreSQL;Redis   \n",
              "83437  Cassandra;Elasticsearch;MongoDB;PostgreSQL;Redis   \n",
              "83438                                 Oracle;PostgreSQL   \n",
              "\n",
              "                     CloudJaTrab  \\\n",
              "0                            NaN   \n",
              "1                            NaN   \n",
              "2                         Heroku   \n",
              "3                            NaN   \n",
              "4                            NaN   \n",
              "...                          ...   \n",
              "83434                        AWS   \n",
              "83435                        NaN   \n",
              "83436  AWS;Google Cloud Platform   \n",
              "83437                     Heroku   \n",
              "83438            Microsoft Azure   \n",
              "\n",
              "                                       EstWebJaTrab  \\\n",
              "0                                   Laravel;Symfony   \n",
              "1                              Angular;Flask;Vue.js   \n",
              "2                                             Flask   \n",
              "3                                    Angular;jQuery   \n",
              "4                                             Flask   \n",
              "...                                             ...   \n",
              "83434                                           NaN   \n",
              "83435  Django;jQuery;Laravel;React.js;Ruby on Rails   \n",
              "83436                                 FastAPI;Flask   \n",
              "83437                 Django;Express;Flask;React.js   \n",
              "83438                                Angular;Spring   \n",
              "\n",
              "                                OutrasJaTrab                  FerramJaTrab  \\\n",
              "0                                        NaN                           NaN   \n",
              "1                                    Cordova               Docker;Git;Yarn   \n",
              "2      NumPy;Pandas;TensorFlow;Torch/PyTorch                           NaN   \n",
              "3                                        NaN                           NaN   \n",
              "4           Apache Spark;Hadoop;NumPy;Pandas    Docker;Git;Kubernetes;Yarn   \n",
              "...                                      ...                           ...   \n",
              "83434                                    NaN                    Docker;Git   \n",
              "83435                             Flutter;Qt    Git;Unity 3D;Unreal Engine   \n",
              "83436              Hadoop;Keras;NumPy;Pandas  Ansible;Docker;Git;Terraform   \n",
              "83437  NumPy;Pandas;TensorFlow;Torch/PyTorch  Ansible;Docker;Git;Terraform   \n",
              "83438                                    NaN                    Docker;Git   \n",
              "\n",
              "                                            AmbDevJaTrab           SO  \\\n",
              "0                                         PHPStorm;Xcode        MacOS   \n",
              "1              Android Studio;IntelliJ;Notepad++;PyCharm      Windows   \n",
              "2      IPython/Jupyter;PyCharm;RStudio;Sublime Text;V...        MacOS   \n",
              "3                                                    NaN      Windows   \n",
              "4             Atom;IPython/Jupyter;Notepad++;PyCharm;Vim  Linux-based   \n",
              "...                                                  ...          ...   \n",
              "83434       IntelliJ;Sublime Text;Vim;Visual Studio Code        MacOS   \n",
              "83435  Android Studio;Eclipse;Emacs;IntelliJ;NetBeans...  Linux-based   \n",
              "83436  Android Studio;Eclipse;IntelliJ;IPython/Jupyte...      Windows   \n",
              "83437                               PyCharm;Sublime Text        MacOS   \n",
              "83438                        IntelliJ;Visual Studio Code  Linux-based   \n",
              "\n",
              "                     Idade DefFis             TipoDev Genero  \\\n",
              "0      25-34 anos de idade    nao               outro  Homem   \n",
              "1      18-24 anos de idade    nao                 NaN  Homem   \n",
              "2      18-24 anos de idade    nao                 NaN  Homem   \n",
              "3      35-44 anos de idade    sim            frontend  Homem   \n",
              "4      25-34 anos de idade    nao  cientista de dados  Homem   \n",
              "...                    ...    ...                 ...    ...   \n",
              "83434  25-34 anos de idade    nao             backend  Homem   \n",
              "83435  18-24 anos de idade    nao           fullstack  Homem   \n",
              "83436  25-34 anos de idade    nao  cientista de dados  Homem   \n",
              "83437  25-34 anos de idade    nao             backend  Homem   \n",
              "83438  18-24 anos de idade    nao           fullstack  Homem   \n",
              "\n",
              "                   Etnia  \n",
              "0                 branco  \n",
              "1                 branco  \n",
              "2      prefere nao dizer  \n",
              "3                 branco  \n",
              "4                 branco  \n",
              "...                  ...  \n",
              "83434             branco  \n",
              "83435         nao branco  \n",
              "83436             branco  \n",
              "83437             branco  \n",
              "83438         nao branco  \n",
              "\n",
              "[83439 rows x 20 columns]"
            ],
            "text/html": [
              "\n",
              "  <div id=\"df-132bba32-9f00-4162-ac39-18a884cd9ad6\">\n",
              "    <div class=\"colab-df-container\">\n",
              "      <div>\n",
              "<style scoped>\n",
              "    .dataframe tbody tr th:only-of-type {\n",
              "        vertical-align: middle;\n",
              "    }\n",
              "\n",
              "    .dataframe tbody tr th {\n",
              "        vertical-align: top;\n",
              "    }\n",
              "\n",
              "    .dataframe thead th {\n",
              "        text-align: right;\n",
              "    }\n",
              "</style>\n",
              "<table border=\"1\" class=\"dataframe\">\n",
              "  <thead>\n",
              "    <tr style=\"text-align: right;\">\n",
              "      <th></th>\n",
              "      <th>Id</th>\n",
              "      <th>AreaAtuacao</th>\n",
              "      <th>Emprego</th>\n",
              "      <th>Pais</th>\n",
              "      <th>Escolaridade</th>\n",
              "      <th>AnosProg</th>\n",
              "      <th>AnosProgProf</th>\n",
              "      <th>LingJaTrab</th>\n",
              "      <th>BDJaTrab</th>\n",
              "      <th>CloudJaTrab</th>\n",
              "      <th>EstWebJaTrab</th>\n",
              "      <th>OutrasJaTrab</th>\n",
              "      <th>FerramJaTrab</th>\n",
              "      <th>AmbDevJaTrab</th>\n",
              "      <th>SO</th>\n",
              "      <th>Idade</th>\n",
              "      <th>DefFis</th>\n",
              "      <th>TipoDev</th>\n",
              "      <th>Genero</th>\n",
              "      <th>Etnia</th>\n",
              "    </tr>\n",
              "  </thead>\n",
              "  <tbody>\n",
              "    <tr>\n",
              "      <th>0</th>\n",
              "      <td>1</td>\n",
              "      <td>desenvolvedor profissional</td>\n",
              "      <td>contrato independente, freelancer ou autonomo</td>\n",
              "      <td>Eslovaquia</td>\n",
              "      <td>ensino medio</td>\n",
              "      <td>NaN</td>\n",
              "      <td>NaN</td>\n",
              "      <td>C++;HTML/CSS;JavaScript;Objective-C;PHP;Swift</td>\n",
              "      <td>PostgreSQL;SQLite</td>\n",
              "      <td>NaN</td>\n",
              "      <td>Laravel;Symfony</td>\n",
              "      <td>NaN</td>\n",
              "      <td>NaN</td>\n",
              "      <td>PHPStorm;Xcode</td>\n",
              "      <td>MacOS</td>\n",
              "      <td>25-34 anos de idade</td>\n",
              "      <td>nao</td>\n",
              "      <td>outro</td>\n",
              "      <td>Homem</td>\n",
              "      <td>branco</td>\n",
              "    </tr>\n",
              "    <tr>\n",
              "      <th>1</th>\n",
              "      <td>2</td>\n",
              "      <td>estudante aprendendo a programar</td>\n",
              "      <td>estudante tempo integral</td>\n",
              "      <td>Holanda</td>\n",
              "      <td>graduacao completa</td>\n",
              "      <td>7.0</td>\n",
              "      <td>NaN</td>\n",
              "      <td>JavaScript;Python</td>\n",
              "      <td>PostgreSQL</td>\n",
              "      <td>NaN</td>\n",
              "      <td>Angular;Flask;Vue.js</td>\n",
              "      <td>Cordova</td>\n",
              "      <td>Docker;Git;Yarn</td>\n",
              "      <td>Android Studio;IntelliJ;Notepad++;PyCharm</td>\n",
              "      <td>Windows</td>\n",
              "      <td>18-24 anos de idade</td>\n",
              "      <td>nao</td>\n",
              "      <td>NaN</td>\n",
              "      <td>Homem</td>\n",
              "      <td>branco</td>\n",
              "    </tr>\n",
              "    <tr>\n",
              "      <th>2</th>\n",
              "      <td>3</td>\n",
              "      <td>nao sou desenvolvedor mas as vezes programo co...</td>\n",
              "      <td>estudante tempo integral</td>\n",
              "      <td>Federacao Russa</td>\n",
              "      <td>graduacao completa</td>\n",
              "      <td>NaN</td>\n",
              "      <td>NaN</td>\n",
              "      <td>Assembly;C;Python;R;Rust</td>\n",
              "      <td>SQLite</td>\n",
              "      <td>Heroku</td>\n",
              "      <td>Flask</td>\n",
              "      <td>NumPy;Pandas;TensorFlow;Torch/PyTorch</td>\n",
              "      <td>NaN</td>\n",
              "      <td>IPython/Jupyter;PyCharm;RStudio;Sublime Text;V...</td>\n",
              "      <td>MacOS</td>\n",
              "      <td>18-24 anos de idade</td>\n",
              "      <td>nao</td>\n",
              "      <td>NaN</td>\n",
              "      <td>Homem</td>\n",
              "      <td>prefere nao dizer</td>\n",
              "    </tr>\n",
              "    <tr>\n",
              "      <th>3</th>\n",
              "      <td>4</td>\n",
              "      <td>desenvolvedor profissional</td>\n",
              "      <td>empregado tempo integral</td>\n",
              "      <td>Austria</td>\n",
              "      <td>mestrado</td>\n",
              "      <td>NaN</td>\n",
              "      <td>NaN</td>\n",
              "      <td>JavaScript;TypeScript</td>\n",
              "      <td>NaN</td>\n",
              "      <td>NaN</td>\n",
              "      <td>Angular;jQuery</td>\n",
              "      <td>NaN</td>\n",
              "      <td>NaN</td>\n",
              "      <td>NaN</td>\n",
              "      <td>Windows</td>\n",
              "      <td>35-44 anos de idade</td>\n",
              "      <td>sim</td>\n",
              "      <td>frontend</td>\n",
              "      <td>Homem</td>\n",
              "      <td>branco</td>\n",
              "    </tr>\n",
              "    <tr>\n",
              "      <th>4</th>\n",
              "      <td>5</td>\n",
              "      <td>desenvolvedor profissional</td>\n",
              "      <td>contrato independente, freelancer ou autonomo</td>\n",
              "      <td>Reino Unido</td>\n",
              "      <td>mestrado</td>\n",
              "      <td>17.0</td>\n",
              "      <td>10.0</td>\n",
              "      <td>Bash/Shell;HTML/CSS;Python;SQL</td>\n",
              "      <td>Elasticsearch;PostgreSQL;Redis</td>\n",
              "      <td>NaN</td>\n",
              "      <td>Flask</td>\n",
              "      <td>Apache Spark;Hadoop;NumPy;Pandas</td>\n",
              "      <td>Docker;Git;Kubernetes;Yarn</td>\n",
              "      <td>Atom;IPython/Jupyter;Notepad++;PyCharm;Vim</td>\n",
              "      <td>Linux-based</td>\n",
              "      <td>25-34 anos de idade</td>\n",
              "      <td>nao</td>\n",
              "      <td>cientista de dados</td>\n",
              "      <td>Homem</td>\n",
              "      <td>branco</td>\n",
              "    </tr>\n",
              "    <tr>\n",
              "      <th>...</th>\n",
              "      <td>...</td>\n",
              "      <td>...</td>\n",
              "      <td>...</td>\n",
              "      <td>...</td>\n",
              "      <td>...</td>\n",
              "      <td>...</td>\n",
              "      <td>...</td>\n",
              "      <td>...</td>\n",
              "      <td>...</td>\n",
              "      <td>...</td>\n",
              "      <td>...</td>\n",
              "      <td>...</td>\n",
              "      <td>...</td>\n",
              "      <td>...</td>\n",
              "      <td>...</td>\n",
              "      <td>...</td>\n",
              "      <td>...</td>\n",
              "      <td>...</td>\n",
              "      <td>...</td>\n",
              "      <td>...</td>\n",
              "    </tr>\n",
              "    <tr>\n",
              "      <th>83434</th>\n",
              "      <td>83435</td>\n",
              "      <td>desenvolvedor profissional</td>\n",
              "      <td>empregado tempo integral</td>\n",
              "      <td>Estados Unidos da America</td>\n",
              "      <td>graduacao completa</td>\n",
              "      <td>6.0</td>\n",
              "      <td>5.0</td>\n",
              "      <td>Clojure;Kotlin;SQL</td>\n",
              "      <td>Oracle;SQLite</td>\n",
              "      <td>AWS</td>\n",
              "      <td>NaN</td>\n",
              "      <td>NaN</td>\n",
              "      <td>Docker;Git</td>\n",
              "      <td>IntelliJ;Sublime Text;Vim;Visual Studio Code</td>\n",
              "      <td>MacOS</td>\n",
              "      <td>25-34 anos de idade</td>\n",
              "      <td>nao</td>\n",
              "      <td>backend</td>\n",
              "      <td>Homem</td>\n",
              "      <td>branco</td>\n",
              "    </tr>\n",
              "    <tr>\n",
              "      <th>83435</th>\n",
              "      <td>83436</td>\n",
              "      <td>desenvolvedor profissional</td>\n",
              "      <td>contrato independente, freelancer ou autonomo</td>\n",
              "      <td>Benim</td>\n",
              "      <td>graduacao completa</td>\n",
              "      <td>4.0</td>\n",
              "      <td>2.0</td>\n",
              "      <td>NaN</td>\n",
              "      <td>Firebase;MariaDB;MySQL;PostgreSQL;Redis;SQLite</td>\n",
              "      <td>NaN</td>\n",
              "      <td>Django;jQuery;Laravel;React.js;Ruby on Rails</td>\n",
              "      <td>Flutter;Qt</td>\n",
              "      <td>Git;Unity 3D;Unreal Engine</td>\n",
              "      <td>Android Studio;Eclipse;Emacs;IntelliJ;NetBeans...</td>\n",
              "      <td>Linux-based</td>\n",
              "      <td>18-24 anos de idade</td>\n",
              "      <td>nao</td>\n",
              "      <td>fullstack</td>\n",
              "      <td>Homem</td>\n",
              "      <td>nao branco</td>\n",
              "    </tr>\n",
              "    <tr>\n",
              "      <th>83436</th>\n",
              "      <td>83437</td>\n",
              "      <td>desenvolvedor profissional</td>\n",
              "      <td>empregado tempo integral</td>\n",
              "      <td>Estados Unidos da America</td>\n",
              "      <td>ensino medio</td>\n",
              "      <td>10.0</td>\n",
              "      <td>4.0</td>\n",
              "      <td>Groovy;Java;Python</td>\n",
              "      <td>DynamoDB;Elasticsearch;MongoDB;PostgreSQL;Redis</td>\n",
              "      <td>AWS;Google Cloud Platform</td>\n",
              "      <td>FastAPI;Flask</td>\n",
              "      <td>Hadoop;Keras;NumPy;Pandas</td>\n",
              "      <td>Ansible;Docker;Git;Terraform</td>\n",
              "      <td>Android Studio;Eclipse;IntelliJ;IPython/Jupyte...</td>\n",
              "      <td>Windows</td>\n",
              "      <td>25-34 anos de idade</td>\n",
              "      <td>nao</td>\n",
              "      <td>cientista de dados</td>\n",
              "      <td>Homem</td>\n",
              "      <td>branco</td>\n",
              "    </tr>\n",
              "    <tr>\n",
              "      <th>83437</th>\n",
              "      <td>83438</td>\n",
              "      <td>desenvolvedor profissional</td>\n",
              "      <td>empregado tempo integral</td>\n",
              "      <td>Canada</td>\n",
              "      <td>graduacao completa</td>\n",
              "      <td>5.0</td>\n",
              "      <td>3.0</td>\n",
              "      <td>Bash/Shell;JavaScript;Node.js;Python</td>\n",
              "      <td>Cassandra;Elasticsearch;MongoDB;PostgreSQL;Redis</td>\n",
              "      <td>Heroku</td>\n",
              "      <td>Django;Express;Flask;React.js</td>\n",
              "      <td>NumPy;Pandas;TensorFlow;Torch/PyTorch</td>\n",
              "      <td>Ansible;Docker;Git;Terraform</td>\n",
              "      <td>PyCharm;Sublime Text</td>\n",
              "      <td>MacOS</td>\n",
              "      <td>25-34 anos de idade</td>\n",
              "      <td>nao</td>\n",
              "      <td>backend</td>\n",
              "      <td>Homem</td>\n",
              "      <td>branco</td>\n",
              "    </tr>\n",
              "    <tr>\n",
              "      <th>83438</th>\n",
              "      <td>83439</td>\n",
              "      <td>desenvolvedor profissional</td>\n",
              "      <td>empregado tempo integral</td>\n",
              "      <td>Brasil</td>\n",
              "      <td>profissionalizante</td>\n",
              "      <td>14.0</td>\n",
              "      <td>4.0</td>\n",
              "      <td>Delphi;Elixir;HTML/CSS;Java;JavaScript</td>\n",
              "      <td>Oracle;PostgreSQL</td>\n",
              "      <td>Microsoft Azure</td>\n",
              "      <td>Angular;Spring</td>\n",
              "      <td>NaN</td>\n",
              "      <td>Docker;Git</td>\n",
              "      <td>IntelliJ;Visual Studio Code</td>\n",
              "      <td>Linux-based</td>\n",
              "      <td>18-24 anos de idade</td>\n",
              "      <td>nao</td>\n",
              "      <td>fullstack</td>\n",
              "      <td>Homem</td>\n",
              "      <td>nao branco</td>\n",
              "    </tr>\n",
              "  </tbody>\n",
              "</table>\n",
              "<p>83439 rows × 20 columns</p>\n",
              "</div>\n",
              "      <button class=\"colab-df-convert\" onclick=\"convertToInteractive('df-132bba32-9f00-4162-ac39-18a884cd9ad6')\"\n",
              "              title=\"Convert this dataframe to an interactive table.\"\n",
              "              style=\"display:none;\">\n",
              "        \n",
              "  <svg xmlns=\"http://www.w3.org/2000/svg\" height=\"24px\"viewBox=\"0 0 24 24\"\n",
              "       width=\"24px\">\n",
              "    <path d=\"M0 0h24v24H0V0z\" fill=\"none\"/>\n",
              "    <path d=\"M18.56 5.44l.94 2.06.94-2.06 2.06-.94-2.06-.94-.94-2.06-.94 2.06-2.06.94zm-11 1L8.5 8.5l.94-2.06 2.06-.94-2.06-.94L8.5 2.5l-.94 2.06-2.06.94zm10 10l.94 2.06.94-2.06 2.06-.94-2.06-.94-.94-2.06-.94 2.06-2.06.94z\"/><path d=\"M17.41 7.96l-1.37-1.37c-.4-.4-.92-.59-1.43-.59-.52 0-1.04.2-1.43.59L10.3 9.45l-7.72 7.72c-.78.78-.78 2.05 0 2.83L4 21.41c.39.39.9.59 1.41.59.51 0 1.02-.2 1.41-.59l7.78-7.78 2.81-2.81c.8-.78.8-2.07 0-2.86zM5.41 20L4 18.59l7.72-7.72 1.47 1.35L5.41 20z\"/>\n",
              "  </svg>\n",
              "      </button>\n",
              "      \n",
              "  <style>\n",
              "    .colab-df-container {\n",
              "      display:flex;\n",
              "      flex-wrap:wrap;\n",
              "      gap: 12px;\n",
              "    }\n",
              "\n",
              "    .colab-df-convert {\n",
              "      background-color: #E8F0FE;\n",
              "      border: none;\n",
              "      border-radius: 50%;\n",
              "      cursor: pointer;\n",
              "      display: none;\n",
              "      fill: #1967D2;\n",
              "      height: 32px;\n",
              "      padding: 0 0 0 0;\n",
              "      width: 32px;\n",
              "    }\n",
              "\n",
              "    .colab-df-convert:hover {\n",
              "      background-color: #E2EBFA;\n",
              "      box-shadow: 0px 1px 2px rgba(60, 64, 67, 0.3), 0px 1px 3px 1px rgba(60, 64, 67, 0.15);\n",
              "      fill: #174EA6;\n",
              "    }\n",
              "\n",
              "    [theme=dark] .colab-df-convert {\n",
              "      background-color: #3B4455;\n",
              "      fill: #D2E3FC;\n",
              "    }\n",
              "\n",
              "    [theme=dark] .colab-df-convert:hover {\n",
              "      background-color: #434B5C;\n",
              "      box-shadow: 0px 1px 3px 1px rgba(0, 0, 0, 0.15);\n",
              "      filter: drop-shadow(0px 1px 2px rgba(0, 0, 0, 0.3));\n",
              "      fill: #FFFFFF;\n",
              "    }\n",
              "  </style>\n",
              "\n",
              "      <script>\n",
              "        const buttonEl =\n",
              "          document.querySelector('#df-132bba32-9f00-4162-ac39-18a884cd9ad6 button.colab-df-convert');\n",
              "        buttonEl.style.display =\n",
              "          google.colab.kernel.accessAllowed ? 'block' : 'none';\n",
              "\n",
              "        async function convertToInteractive(key) {\n",
              "          const element = document.querySelector('#df-132bba32-9f00-4162-ac39-18a884cd9ad6');\n",
              "          const dataTable =\n",
              "            await google.colab.kernel.invokeFunction('convertToInteractive',\n",
              "                                                     [key], {});\n",
              "          if (!dataTable) return;\n",
              "\n",
              "          const docLinkHtml = 'Like what you see? Visit the ' +\n",
              "            '<a target=\"_blank\" href=https://colab.research.google.com/notebooks/data_table.ipynb>data table notebook</a>'\n",
              "            + ' to learn more about interactive tables.';\n",
              "          element.innerHTML = '';\n",
              "          dataTable['output_type'] = 'display_data';\n",
              "          await google.colab.output.renderOutput(dataTable, element);\n",
              "          const docLink = document.createElement('div');\n",
              "          docLink.innerHTML = docLinkHtml;\n",
              "          element.appendChild(docLink);\n",
              "        }\n",
              "      </script>\n",
              "    </div>\n",
              "  </div>\n",
              "  "
            ]
          },
          "metadata": {},
          "execution_count": 9
        }
      ]
    },
    {
      "cell_type": "code",
      "source": [
        "#backup do dataframe original\n",
        "df = df_pandas.copy()"
      ],
      "metadata": {
        "id": "OaKjPBDj1oWV"
      },
      "execution_count": null,
      "outputs": []
    },
    {
      "cell_type": "code",
      "source": [
        "df"
      ],
      "metadata": {
        "id": "Kt4AkXvc4ne_",
        "colab": {
          "base_uri": "https://localhost:8080/"
        },
        "outputId": "bdf7ea9f-646d-452c-c7a3-b3c82cf9505c"
      },
      "execution_count": null,
      "outputs": [
        {
          "output_type": "execute_result",
          "data": {
            "text/plain": [
              "          Id                                        AreaAtuacao  \\\n",
              "0          1                         desenvolvedor profissional   \n",
              "1          2                   estudante aprendendo a programar   \n",
              "2          3  nao sou desenvolvedor mas as vezes programo co...   \n",
              "3          4                         desenvolvedor profissional   \n",
              "4          5                         desenvolvedor profissional   \n",
              "...      ...                                                ...   \n",
              "83434  83435                         desenvolvedor profissional   \n",
              "83435  83436                         desenvolvedor profissional   \n",
              "83436  83437                         desenvolvedor profissional   \n",
              "83437  83438                         desenvolvedor profissional   \n",
              "83438  83439                         desenvolvedor profissional   \n",
              "\n",
              "                                             Emprego  \\\n",
              "0      contrato independente, freelancer ou autonomo   \n",
              "1                           estudante tempo integral   \n",
              "2                           estudante tempo integral   \n",
              "3                           empregado tempo integral   \n",
              "4      contrato independente, freelancer ou autonomo   \n",
              "...                                              ...   \n",
              "83434                       empregado tempo integral   \n",
              "83435  contrato independente, freelancer ou autonomo   \n",
              "83436                       empregado tempo integral   \n",
              "83437                       empregado tempo integral   \n",
              "83438                       empregado tempo integral   \n",
              "\n",
              "                            Pais        Escolaridade  AnosProg  AnosProgProf  \\\n",
              "0                     Eslovaquia        ensino medio       NaN           NaN   \n",
              "1                        Holanda  graduacao completa       7.0           NaN   \n",
              "2                Federacao Russa  graduacao completa       NaN           NaN   \n",
              "3                        Austria            mestrado       NaN           NaN   \n",
              "4                    Reino Unido            mestrado      17.0          10.0   \n",
              "...                          ...                 ...       ...           ...   \n",
              "83434  Estados Unidos da America  graduacao completa       6.0           5.0   \n",
              "83435                      Benim  graduacao completa       4.0           2.0   \n",
              "83436  Estados Unidos da America        ensino medio      10.0           4.0   \n",
              "83437                     Canada  graduacao completa       5.0           3.0   \n",
              "83438                     Brasil  profissionalizante      14.0           4.0   \n",
              "\n",
              "                                          LingJaTrab  \\\n",
              "0      C++;HTML/CSS;JavaScript;Objective-C;PHP;Swift   \n",
              "1                                  JavaScript;Python   \n",
              "2                           Assembly;C;Python;R;Rust   \n",
              "3                              JavaScript;TypeScript   \n",
              "4                     Bash/Shell;HTML/CSS;Python;SQL   \n",
              "...                                              ...   \n",
              "83434                             Clojure;Kotlin;SQL   \n",
              "83435                                            NaN   \n",
              "83436                             Groovy;Java;Python   \n",
              "83437           Bash/Shell;JavaScript;Node.js;Python   \n",
              "83438         Delphi;Elixir;HTML/CSS;Java;JavaScript   \n",
              "\n",
              "                                               BDJaTrab  \\\n",
              "0                                     PostgreSQL;SQLite   \n",
              "1                                            PostgreSQL   \n",
              "2                                                SQLite   \n",
              "3                                                   NaN   \n",
              "4                        Elasticsearch;PostgreSQL;Redis   \n",
              "...                                                 ...   \n",
              "83434                                     Oracle;SQLite   \n",
              "83435    Firebase;MariaDB;MySQL;PostgreSQL;Redis;SQLite   \n",
              "83436   DynamoDB;Elasticsearch;MongoDB;PostgreSQL;Redis   \n",
              "83437  Cassandra;Elasticsearch;MongoDB;PostgreSQL;Redis   \n",
              "83438                                 Oracle;PostgreSQL   \n",
              "\n",
              "                     CloudJaTrab  \\\n",
              "0                            NaN   \n",
              "1                            NaN   \n",
              "2                         Heroku   \n",
              "3                            NaN   \n",
              "4                            NaN   \n",
              "...                          ...   \n",
              "83434                        AWS   \n",
              "83435                        NaN   \n",
              "83436  AWS;Google Cloud Platform   \n",
              "83437                     Heroku   \n",
              "83438            Microsoft Azure   \n",
              "\n",
              "                                       EstWebJaTrab  \\\n",
              "0                                   Laravel;Symfony   \n",
              "1                              Angular;Flask;Vue.js   \n",
              "2                                             Flask   \n",
              "3                                    Angular;jQuery   \n",
              "4                                             Flask   \n",
              "...                                             ...   \n",
              "83434                                           NaN   \n",
              "83435  Django;jQuery;Laravel;React.js;Ruby on Rails   \n",
              "83436                                 FastAPI;Flask   \n",
              "83437                 Django;Express;Flask;React.js   \n",
              "83438                                Angular;Spring   \n",
              "\n",
              "                                OutrasJaTrab                  FerramJaTrab  \\\n",
              "0                                        NaN                           NaN   \n",
              "1                                    Cordova               Docker;Git;Yarn   \n",
              "2      NumPy;Pandas;TensorFlow;Torch/PyTorch                           NaN   \n",
              "3                                        NaN                           NaN   \n",
              "4           Apache Spark;Hadoop;NumPy;Pandas    Docker;Git;Kubernetes;Yarn   \n",
              "...                                      ...                           ...   \n",
              "83434                                    NaN                    Docker;Git   \n",
              "83435                             Flutter;Qt    Git;Unity 3D;Unreal Engine   \n",
              "83436              Hadoop;Keras;NumPy;Pandas  Ansible;Docker;Git;Terraform   \n",
              "83437  NumPy;Pandas;TensorFlow;Torch/PyTorch  Ansible;Docker;Git;Terraform   \n",
              "83438                                    NaN                    Docker;Git   \n",
              "\n",
              "                                            AmbDevJaTrab           SO  \\\n",
              "0                                         PHPStorm;Xcode        MacOS   \n",
              "1              Android Studio;IntelliJ;Notepad++;PyCharm      Windows   \n",
              "2      IPython/Jupyter;PyCharm;RStudio;Sublime Text;V...        MacOS   \n",
              "3                                                    NaN      Windows   \n",
              "4             Atom;IPython/Jupyter;Notepad++;PyCharm;Vim  Linux-based   \n",
              "...                                                  ...          ...   \n",
              "83434       IntelliJ;Sublime Text;Vim;Visual Studio Code        MacOS   \n",
              "83435  Android Studio;Eclipse;Emacs;IntelliJ;NetBeans...  Linux-based   \n",
              "83436  Android Studio;Eclipse;IntelliJ;IPython/Jupyte...      Windows   \n",
              "83437                               PyCharm;Sublime Text        MacOS   \n",
              "83438                        IntelliJ;Visual Studio Code  Linux-based   \n",
              "\n",
              "                     Idade DefFis             TipoDev Genero  \\\n",
              "0      25-34 anos de idade    nao               outro  Homem   \n",
              "1      18-24 anos de idade    nao                 NaN  Homem   \n",
              "2      18-24 anos de idade    nao                 NaN  Homem   \n",
              "3      35-44 anos de idade    sim            frontend  Homem   \n",
              "4      25-34 anos de idade    nao  cientista de dados  Homem   \n",
              "...                    ...    ...                 ...    ...   \n",
              "83434  25-34 anos de idade    nao             backend  Homem   \n",
              "83435  18-24 anos de idade    nao           fullstack  Homem   \n",
              "83436  25-34 anos de idade    nao  cientista de dados  Homem   \n",
              "83437  25-34 anos de idade    nao             backend  Homem   \n",
              "83438  18-24 anos de idade    nao           fullstack  Homem   \n",
              "\n",
              "                   Etnia  \n",
              "0                 branco  \n",
              "1                 branco  \n",
              "2      prefere nao dizer  \n",
              "3                 branco  \n",
              "4                 branco  \n",
              "...                  ...  \n",
              "83434             branco  \n",
              "83435         nao branco  \n",
              "83436             branco  \n",
              "83437             branco  \n",
              "83438         nao branco  \n",
              "\n",
              "[83439 rows x 20 columns]"
            ],
            "text/html": [
              "\n",
              "  <div id=\"df-b206c958-11bb-477e-ae80-72f7629833b7\">\n",
              "    <div class=\"colab-df-container\">\n",
              "      <div>\n",
              "<style scoped>\n",
              "    .dataframe tbody tr th:only-of-type {\n",
              "        vertical-align: middle;\n",
              "    }\n",
              "\n",
              "    .dataframe tbody tr th {\n",
              "        vertical-align: top;\n",
              "    }\n",
              "\n",
              "    .dataframe thead th {\n",
              "        text-align: right;\n",
              "    }\n",
              "</style>\n",
              "<table border=\"1\" class=\"dataframe\">\n",
              "  <thead>\n",
              "    <tr style=\"text-align: right;\">\n",
              "      <th></th>\n",
              "      <th>Id</th>\n",
              "      <th>AreaAtuacao</th>\n",
              "      <th>Emprego</th>\n",
              "      <th>Pais</th>\n",
              "      <th>Escolaridade</th>\n",
              "      <th>AnosProg</th>\n",
              "      <th>AnosProgProf</th>\n",
              "      <th>LingJaTrab</th>\n",
              "      <th>BDJaTrab</th>\n",
              "      <th>CloudJaTrab</th>\n",
              "      <th>EstWebJaTrab</th>\n",
              "      <th>OutrasJaTrab</th>\n",
              "      <th>FerramJaTrab</th>\n",
              "      <th>AmbDevJaTrab</th>\n",
              "      <th>SO</th>\n",
              "      <th>Idade</th>\n",
              "      <th>DefFis</th>\n",
              "      <th>TipoDev</th>\n",
              "      <th>Genero</th>\n",
              "      <th>Etnia</th>\n",
              "    </tr>\n",
              "  </thead>\n",
              "  <tbody>\n",
              "    <tr>\n",
              "      <th>0</th>\n",
              "      <td>1</td>\n",
              "      <td>desenvolvedor profissional</td>\n",
              "      <td>contrato independente, freelancer ou autonomo</td>\n",
              "      <td>Eslovaquia</td>\n",
              "      <td>ensino medio</td>\n",
              "      <td>NaN</td>\n",
              "      <td>NaN</td>\n",
              "      <td>C++;HTML/CSS;JavaScript;Objective-C;PHP;Swift</td>\n",
              "      <td>PostgreSQL;SQLite</td>\n",
              "      <td>NaN</td>\n",
              "      <td>Laravel;Symfony</td>\n",
              "      <td>NaN</td>\n",
              "      <td>NaN</td>\n",
              "      <td>PHPStorm;Xcode</td>\n",
              "      <td>MacOS</td>\n",
              "      <td>25-34 anos de idade</td>\n",
              "      <td>nao</td>\n",
              "      <td>outro</td>\n",
              "      <td>Homem</td>\n",
              "      <td>branco</td>\n",
              "    </tr>\n",
              "    <tr>\n",
              "      <th>1</th>\n",
              "      <td>2</td>\n",
              "      <td>estudante aprendendo a programar</td>\n",
              "      <td>estudante tempo integral</td>\n",
              "      <td>Holanda</td>\n",
              "      <td>graduacao completa</td>\n",
              "      <td>7.0</td>\n",
              "      <td>NaN</td>\n",
              "      <td>JavaScript;Python</td>\n",
              "      <td>PostgreSQL</td>\n",
              "      <td>NaN</td>\n",
              "      <td>Angular;Flask;Vue.js</td>\n",
              "      <td>Cordova</td>\n",
              "      <td>Docker;Git;Yarn</td>\n",
              "      <td>Android Studio;IntelliJ;Notepad++;PyCharm</td>\n",
              "      <td>Windows</td>\n",
              "      <td>18-24 anos de idade</td>\n",
              "      <td>nao</td>\n",
              "      <td>NaN</td>\n",
              "      <td>Homem</td>\n",
              "      <td>branco</td>\n",
              "    </tr>\n",
              "    <tr>\n",
              "      <th>2</th>\n",
              "      <td>3</td>\n",
              "      <td>nao sou desenvolvedor mas as vezes programo co...</td>\n",
              "      <td>estudante tempo integral</td>\n",
              "      <td>Federacao Russa</td>\n",
              "      <td>graduacao completa</td>\n",
              "      <td>NaN</td>\n",
              "      <td>NaN</td>\n",
              "      <td>Assembly;C;Python;R;Rust</td>\n",
              "      <td>SQLite</td>\n",
              "      <td>Heroku</td>\n",
              "      <td>Flask</td>\n",
              "      <td>NumPy;Pandas;TensorFlow;Torch/PyTorch</td>\n",
              "      <td>NaN</td>\n",
              "      <td>IPython/Jupyter;PyCharm;RStudio;Sublime Text;V...</td>\n",
              "      <td>MacOS</td>\n",
              "      <td>18-24 anos de idade</td>\n",
              "      <td>nao</td>\n",
              "      <td>NaN</td>\n",
              "      <td>Homem</td>\n",
              "      <td>prefere nao dizer</td>\n",
              "    </tr>\n",
              "    <tr>\n",
              "      <th>3</th>\n",
              "      <td>4</td>\n",
              "      <td>desenvolvedor profissional</td>\n",
              "      <td>empregado tempo integral</td>\n",
              "      <td>Austria</td>\n",
              "      <td>mestrado</td>\n",
              "      <td>NaN</td>\n",
              "      <td>NaN</td>\n",
              "      <td>JavaScript;TypeScript</td>\n",
              "      <td>NaN</td>\n",
              "      <td>NaN</td>\n",
              "      <td>Angular;jQuery</td>\n",
              "      <td>NaN</td>\n",
              "      <td>NaN</td>\n",
              "      <td>NaN</td>\n",
              "      <td>Windows</td>\n",
              "      <td>35-44 anos de idade</td>\n",
              "      <td>sim</td>\n",
              "      <td>frontend</td>\n",
              "      <td>Homem</td>\n",
              "      <td>branco</td>\n",
              "    </tr>\n",
              "    <tr>\n",
              "      <th>4</th>\n",
              "      <td>5</td>\n",
              "      <td>desenvolvedor profissional</td>\n",
              "      <td>contrato independente, freelancer ou autonomo</td>\n",
              "      <td>Reino Unido</td>\n",
              "      <td>mestrado</td>\n",
              "      <td>17.0</td>\n",
              "      <td>10.0</td>\n",
              "      <td>Bash/Shell;HTML/CSS;Python;SQL</td>\n",
              "      <td>Elasticsearch;PostgreSQL;Redis</td>\n",
              "      <td>NaN</td>\n",
              "      <td>Flask</td>\n",
              "      <td>Apache Spark;Hadoop;NumPy;Pandas</td>\n",
              "      <td>Docker;Git;Kubernetes;Yarn</td>\n",
              "      <td>Atom;IPython/Jupyter;Notepad++;PyCharm;Vim</td>\n",
              "      <td>Linux-based</td>\n",
              "      <td>25-34 anos de idade</td>\n",
              "      <td>nao</td>\n",
              "      <td>cientista de dados</td>\n",
              "      <td>Homem</td>\n",
              "      <td>branco</td>\n",
              "    </tr>\n",
              "    <tr>\n",
              "      <th>...</th>\n",
              "      <td>...</td>\n",
              "      <td>...</td>\n",
              "      <td>...</td>\n",
              "      <td>...</td>\n",
              "      <td>...</td>\n",
              "      <td>...</td>\n",
              "      <td>...</td>\n",
              "      <td>...</td>\n",
              "      <td>...</td>\n",
              "      <td>...</td>\n",
              "      <td>...</td>\n",
              "      <td>...</td>\n",
              "      <td>...</td>\n",
              "      <td>...</td>\n",
              "      <td>...</td>\n",
              "      <td>...</td>\n",
              "      <td>...</td>\n",
              "      <td>...</td>\n",
              "      <td>...</td>\n",
              "      <td>...</td>\n",
              "    </tr>\n",
              "    <tr>\n",
              "      <th>83434</th>\n",
              "      <td>83435</td>\n",
              "      <td>desenvolvedor profissional</td>\n",
              "      <td>empregado tempo integral</td>\n",
              "      <td>Estados Unidos da America</td>\n",
              "      <td>graduacao completa</td>\n",
              "      <td>6.0</td>\n",
              "      <td>5.0</td>\n",
              "      <td>Clojure;Kotlin;SQL</td>\n",
              "      <td>Oracle;SQLite</td>\n",
              "      <td>AWS</td>\n",
              "      <td>NaN</td>\n",
              "      <td>NaN</td>\n",
              "      <td>Docker;Git</td>\n",
              "      <td>IntelliJ;Sublime Text;Vim;Visual Studio Code</td>\n",
              "      <td>MacOS</td>\n",
              "      <td>25-34 anos de idade</td>\n",
              "      <td>nao</td>\n",
              "      <td>backend</td>\n",
              "      <td>Homem</td>\n",
              "      <td>branco</td>\n",
              "    </tr>\n",
              "    <tr>\n",
              "      <th>83435</th>\n",
              "      <td>83436</td>\n",
              "      <td>desenvolvedor profissional</td>\n",
              "      <td>contrato independente, freelancer ou autonomo</td>\n",
              "      <td>Benim</td>\n",
              "      <td>graduacao completa</td>\n",
              "      <td>4.0</td>\n",
              "      <td>2.0</td>\n",
              "      <td>NaN</td>\n",
              "      <td>Firebase;MariaDB;MySQL;PostgreSQL;Redis;SQLite</td>\n",
              "      <td>NaN</td>\n",
              "      <td>Django;jQuery;Laravel;React.js;Ruby on Rails</td>\n",
              "      <td>Flutter;Qt</td>\n",
              "      <td>Git;Unity 3D;Unreal Engine</td>\n",
              "      <td>Android Studio;Eclipse;Emacs;IntelliJ;NetBeans...</td>\n",
              "      <td>Linux-based</td>\n",
              "      <td>18-24 anos de idade</td>\n",
              "      <td>nao</td>\n",
              "      <td>fullstack</td>\n",
              "      <td>Homem</td>\n",
              "      <td>nao branco</td>\n",
              "    </tr>\n",
              "    <tr>\n",
              "      <th>83436</th>\n",
              "      <td>83437</td>\n",
              "      <td>desenvolvedor profissional</td>\n",
              "      <td>empregado tempo integral</td>\n",
              "      <td>Estados Unidos da America</td>\n",
              "      <td>ensino medio</td>\n",
              "      <td>10.0</td>\n",
              "      <td>4.0</td>\n",
              "      <td>Groovy;Java;Python</td>\n",
              "      <td>DynamoDB;Elasticsearch;MongoDB;PostgreSQL;Redis</td>\n",
              "      <td>AWS;Google Cloud Platform</td>\n",
              "      <td>FastAPI;Flask</td>\n",
              "      <td>Hadoop;Keras;NumPy;Pandas</td>\n",
              "      <td>Ansible;Docker;Git;Terraform</td>\n",
              "      <td>Android Studio;Eclipse;IntelliJ;IPython/Jupyte...</td>\n",
              "      <td>Windows</td>\n",
              "      <td>25-34 anos de idade</td>\n",
              "      <td>nao</td>\n",
              "      <td>cientista de dados</td>\n",
              "      <td>Homem</td>\n",
              "      <td>branco</td>\n",
              "    </tr>\n",
              "    <tr>\n",
              "      <th>83437</th>\n",
              "      <td>83438</td>\n",
              "      <td>desenvolvedor profissional</td>\n",
              "      <td>empregado tempo integral</td>\n",
              "      <td>Canada</td>\n",
              "      <td>graduacao completa</td>\n",
              "      <td>5.0</td>\n",
              "      <td>3.0</td>\n",
              "      <td>Bash/Shell;JavaScript;Node.js;Python</td>\n",
              "      <td>Cassandra;Elasticsearch;MongoDB;PostgreSQL;Redis</td>\n",
              "      <td>Heroku</td>\n",
              "      <td>Django;Express;Flask;React.js</td>\n",
              "      <td>NumPy;Pandas;TensorFlow;Torch/PyTorch</td>\n",
              "      <td>Ansible;Docker;Git;Terraform</td>\n",
              "      <td>PyCharm;Sublime Text</td>\n",
              "      <td>MacOS</td>\n",
              "      <td>25-34 anos de idade</td>\n",
              "      <td>nao</td>\n",
              "      <td>backend</td>\n",
              "      <td>Homem</td>\n",
              "      <td>branco</td>\n",
              "    </tr>\n",
              "    <tr>\n",
              "      <th>83438</th>\n",
              "      <td>83439</td>\n",
              "      <td>desenvolvedor profissional</td>\n",
              "      <td>empregado tempo integral</td>\n",
              "      <td>Brasil</td>\n",
              "      <td>profissionalizante</td>\n",
              "      <td>14.0</td>\n",
              "      <td>4.0</td>\n",
              "      <td>Delphi;Elixir;HTML/CSS;Java;JavaScript</td>\n",
              "      <td>Oracle;PostgreSQL</td>\n",
              "      <td>Microsoft Azure</td>\n",
              "      <td>Angular;Spring</td>\n",
              "      <td>NaN</td>\n",
              "      <td>Docker;Git</td>\n",
              "      <td>IntelliJ;Visual Studio Code</td>\n",
              "      <td>Linux-based</td>\n",
              "      <td>18-24 anos de idade</td>\n",
              "      <td>nao</td>\n",
              "      <td>fullstack</td>\n",
              "      <td>Homem</td>\n",
              "      <td>nao branco</td>\n",
              "    </tr>\n",
              "  </tbody>\n",
              "</table>\n",
              "<p>83439 rows × 20 columns</p>\n",
              "</div>\n",
              "      <button class=\"colab-df-convert\" onclick=\"convertToInteractive('df-b206c958-11bb-477e-ae80-72f7629833b7')\"\n",
              "              title=\"Convert this dataframe to an interactive table.\"\n",
              "              style=\"display:none;\">\n",
              "        \n",
              "  <svg xmlns=\"http://www.w3.org/2000/svg\" height=\"24px\"viewBox=\"0 0 24 24\"\n",
              "       width=\"24px\">\n",
              "    <path d=\"M0 0h24v24H0V0z\" fill=\"none\"/>\n",
              "    <path d=\"M18.56 5.44l.94 2.06.94-2.06 2.06-.94-2.06-.94-.94-2.06-.94 2.06-2.06.94zm-11 1L8.5 8.5l.94-2.06 2.06-.94-2.06-.94L8.5 2.5l-.94 2.06-2.06.94zm10 10l.94 2.06.94-2.06 2.06-.94-2.06-.94-.94-2.06-.94 2.06-2.06.94z\"/><path d=\"M17.41 7.96l-1.37-1.37c-.4-.4-.92-.59-1.43-.59-.52 0-1.04.2-1.43.59L10.3 9.45l-7.72 7.72c-.78.78-.78 2.05 0 2.83L4 21.41c.39.39.9.59 1.41.59.51 0 1.02-.2 1.41-.59l7.78-7.78 2.81-2.81c.8-.78.8-2.07 0-2.86zM5.41 20L4 18.59l7.72-7.72 1.47 1.35L5.41 20z\"/>\n",
              "  </svg>\n",
              "      </button>\n",
              "      \n",
              "  <style>\n",
              "    .colab-df-container {\n",
              "      display:flex;\n",
              "      flex-wrap:wrap;\n",
              "      gap: 12px;\n",
              "    }\n",
              "\n",
              "    .colab-df-convert {\n",
              "      background-color: #E8F0FE;\n",
              "      border: none;\n",
              "      border-radius: 50%;\n",
              "      cursor: pointer;\n",
              "      display: none;\n",
              "      fill: #1967D2;\n",
              "      height: 32px;\n",
              "      padding: 0 0 0 0;\n",
              "      width: 32px;\n",
              "    }\n",
              "\n",
              "    .colab-df-convert:hover {\n",
              "      background-color: #E2EBFA;\n",
              "      box-shadow: 0px 1px 2px rgba(60, 64, 67, 0.3), 0px 1px 3px 1px rgba(60, 64, 67, 0.15);\n",
              "      fill: #174EA6;\n",
              "    }\n",
              "\n",
              "    [theme=dark] .colab-df-convert {\n",
              "      background-color: #3B4455;\n",
              "      fill: #D2E3FC;\n",
              "    }\n",
              "\n",
              "    [theme=dark] .colab-df-convert:hover {\n",
              "      background-color: #434B5C;\n",
              "      box-shadow: 0px 1px 3px 1px rgba(0, 0, 0, 0.15);\n",
              "      filter: drop-shadow(0px 1px 2px rgba(0, 0, 0, 0.3));\n",
              "      fill: #FFFFFF;\n",
              "    }\n",
              "  </style>\n",
              "\n",
              "      <script>\n",
              "        const buttonEl =\n",
              "          document.querySelector('#df-b206c958-11bb-477e-ae80-72f7629833b7 button.colab-df-convert');\n",
              "        buttonEl.style.display =\n",
              "          google.colab.kernel.accessAllowed ? 'block' : 'none';\n",
              "\n",
              "        async function convertToInteractive(key) {\n",
              "          const element = document.querySelector('#df-b206c958-11bb-477e-ae80-72f7629833b7');\n",
              "          const dataTable =\n",
              "            await google.colab.kernel.invokeFunction('convertToInteractive',\n",
              "                                                     [key], {});\n",
              "          if (!dataTable) return;\n",
              "\n",
              "          const docLinkHtml = 'Like what you see? Visit the ' +\n",
              "            '<a target=\"_blank\" href=https://colab.research.google.com/notebooks/data_table.ipynb>data table notebook</a>'\n",
              "            + ' to learn more about interactive tables.';\n",
              "          element.innerHTML = '';\n",
              "          dataTable['output_type'] = 'display_data';\n",
              "          await google.colab.output.renderOutput(dataTable, element);\n",
              "          const docLink = document.createElement('div');\n",
              "          docLink.innerHTML = docLinkHtml;\n",
              "          element.appendChild(docLink);\n",
              "        }\n",
              "      </script>\n",
              "    </div>\n",
              "  </div>\n",
              "  "
            ]
          },
          "metadata": {},
          "execution_count": 11
        }
      ]
    },
    {
      "cell_type": "code",
      "source": [
        "#tipo d elementos no DataFrame\n",
        "df.dtypes"
      ],
      "metadata": {
        "id": "ftQpJClj7InH",
        "colab": {
          "base_uri": "https://localhost:8080/"
        },
        "outputId": "751932f0-e2c9-4aaa-c01c-563153404c13"
      },
      "execution_count": null,
      "outputs": [
        {
          "output_type": "execute_result",
          "data": {
            "text/plain": [
              "Id                int64\n",
              "AreaAtuacao      object\n",
              "Emprego          object\n",
              "Pais             object\n",
              "Escolaridade     object\n",
              "AnosProg        float64\n",
              "AnosProgProf    float64\n",
              "LingJaTrab       object\n",
              "BDJaTrab         object\n",
              "CloudJaTrab      object\n",
              "EstWebJaTrab     object\n",
              "OutrasJaTrab     object\n",
              "FerramJaTrab     object\n",
              "AmbDevJaTrab     object\n",
              "SO               object\n",
              "Idade            object\n",
              "DefFis           object\n",
              "TipoDev          object\n",
              "Genero           object\n",
              "Etnia            object\n",
              "dtype: object"
            ]
          },
          "metadata": {},
          "execution_count": 12
        }
      ]
    },
    {
      "cell_type": "markdown",
      "source": [
        " substituir os valores NaN nas colunas AnosProg e AnosProgProf para melhor análise no pyspark\n",
        "\n",
        "---\n",
        "\n"
      ],
      "metadata": {
        "id": "yckpqpPYoWZ4"
      }
    },
    {
      "cell_type": "code",
      "source": [
        "df"
      ],
      "metadata": {
        "id": "3JHUqwhrotDM",
        "colab": {
          "base_uri": "https://localhost:8080/"
        },
        "outputId": "3c53cda9-57ba-4766-b02b-43c18320ffe9"
      },
      "execution_count": null,
      "outputs": [
        {
          "output_type": "execute_result",
          "data": {
            "text/plain": [
              "          Id                                        AreaAtuacao  \\\n",
              "0          1                         desenvolvedor profissional   \n",
              "1          2                   estudante aprendendo a programar   \n",
              "2          3  nao sou desenvolvedor mas as vezes programo co...   \n",
              "3          4                         desenvolvedor profissional   \n",
              "4          5                         desenvolvedor profissional   \n",
              "...      ...                                                ...   \n",
              "83434  83435                         desenvolvedor profissional   \n",
              "83435  83436                         desenvolvedor profissional   \n",
              "83436  83437                         desenvolvedor profissional   \n",
              "83437  83438                         desenvolvedor profissional   \n",
              "83438  83439                         desenvolvedor profissional   \n",
              "\n",
              "                                             Emprego  \\\n",
              "0      contrato independente, freelancer ou autonomo   \n",
              "1                           estudante tempo integral   \n",
              "2                           estudante tempo integral   \n",
              "3                           empregado tempo integral   \n",
              "4      contrato independente, freelancer ou autonomo   \n",
              "...                                              ...   \n",
              "83434                       empregado tempo integral   \n",
              "83435  contrato independente, freelancer ou autonomo   \n",
              "83436                       empregado tempo integral   \n",
              "83437                       empregado tempo integral   \n",
              "83438                       empregado tempo integral   \n",
              "\n",
              "                            Pais        Escolaridade  AnosProg  AnosProgProf  \\\n",
              "0                     Eslovaquia        ensino medio       NaN           NaN   \n",
              "1                        Holanda  graduacao completa       7.0           NaN   \n",
              "2                Federacao Russa  graduacao completa       NaN           NaN   \n",
              "3                        Austria            mestrado       NaN           NaN   \n",
              "4                    Reino Unido            mestrado      17.0          10.0   \n",
              "...                          ...                 ...       ...           ...   \n",
              "83434  Estados Unidos da America  graduacao completa       6.0           5.0   \n",
              "83435                      Benim  graduacao completa       4.0           2.0   \n",
              "83436  Estados Unidos da America        ensino medio      10.0           4.0   \n",
              "83437                     Canada  graduacao completa       5.0           3.0   \n",
              "83438                     Brasil  profissionalizante      14.0           4.0   \n",
              "\n",
              "                                          LingJaTrab  \\\n",
              "0      C++;HTML/CSS;JavaScript;Objective-C;PHP;Swift   \n",
              "1                                  JavaScript;Python   \n",
              "2                           Assembly;C;Python;R;Rust   \n",
              "3                              JavaScript;TypeScript   \n",
              "4                     Bash/Shell;HTML/CSS;Python;SQL   \n",
              "...                                              ...   \n",
              "83434                             Clojure;Kotlin;SQL   \n",
              "83435                                            NaN   \n",
              "83436                             Groovy;Java;Python   \n",
              "83437           Bash/Shell;JavaScript;Node.js;Python   \n",
              "83438         Delphi;Elixir;HTML/CSS;Java;JavaScript   \n",
              "\n",
              "                                               BDJaTrab  \\\n",
              "0                                     PostgreSQL;SQLite   \n",
              "1                                            PostgreSQL   \n",
              "2                                                SQLite   \n",
              "3                                                   NaN   \n",
              "4                        Elasticsearch;PostgreSQL;Redis   \n",
              "...                                                 ...   \n",
              "83434                                     Oracle;SQLite   \n",
              "83435    Firebase;MariaDB;MySQL;PostgreSQL;Redis;SQLite   \n",
              "83436   DynamoDB;Elasticsearch;MongoDB;PostgreSQL;Redis   \n",
              "83437  Cassandra;Elasticsearch;MongoDB;PostgreSQL;Redis   \n",
              "83438                                 Oracle;PostgreSQL   \n",
              "\n",
              "                     CloudJaTrab  \\\n",
              "0                            NaN   \n",
              "1                            NaN   \n",
              "2                         Heroku   \n",
              "3                            NaN   \n",
              "4                            NaN   \n",
              "...                          ...   \n",
              "83434                        AWS   \n",
              "83435                        NaN   \n",
              "83436  AWS;Google Cloud Platform   \n",
              "83437                     Heroku   \n",
              "83438            Microsoft Azure   \n",
              "\n",
              "                                       EstWebJaTrab  \\\n",
              "0                                   Laravel;Symfony   \n",
              "1                              Angular;Flask;Vue.js   \n",
              "2                                             Flask   \n",
              "3                                    Angular;jQuery   \n",
              "4                                             Flask   \n",
              "...                                             ...   \n",
              "83434                                           NaN   \n",
              "83435  Django;jQuery;Laravel;React.js;Ruby on Rails   \n",
              "83436                                 FastAPI;Flask   \n",
              "83437                 Django;Express;Flask;React.js   \n",
              "83438                                Angular;Spring   \n",
              "\n",
              "                                OutrasJaTrab                  FerramJaTrab  \\\n",
              "0                                        NaN                           NaN   \n",
              "1                                    Cordova               Docker;Git;Yarn   \n",
              "2      NumPy;Pandas;TensorFlow;Torch/PyTorch                           NaN   \n",
              "3                                        NaN                           NaN   \n",
              "4           Apache Spark;Hadoop;NumPy;Pandas    Docker;Git;Kubernetes;Yarn   \n",
              "...                                      ...                           ...   \n",
              "83434                                    NaN                    Docker;Git   \n",
              "83435                             Flutter;Qt    Git;Unity 3D;Unreal Engine   \n",
              "83436              Hadoop;Keras;NumPy;Pandas  Ansible;Docker;Git;Terraform   \n",
              "83437  NumPy;Pandas;TensorFlow;Torch/PyTorch  Ansible;Docker;Git;Terraform   \n",
              "83438                                    NaN                    Docker;Git   \n",
              "\n",
              "                                            AmbDevJaTrab           SO  \\\n",
              "0                                         PHPStorm;Xcode        MacOS   \n",
              "1              Android Studio;IntelliJ;Notepad++;PyCharm      Windows   \n",
              "2      IPython/Jupyter;PyCharm;RStudio;Sublime Text;V...        MacOS   \n",
              "3                                                    NaN      Windows   \n",
              "4             Atom;IPython/Jupyter;Notepad++;PyCharm;Vim  Linux-based   \n",
              "...                                                  ...          ...   \n",
              "83434       IntelliJ;Sublime Text;Vim;Visual Studio Code        MacOS   \n",
              "83435  Android Studio;Eclipse;Emacs;IntelliJ;NetBeans...  Linux-based   \n",
              "83436  Android Studio;Eclipse;IntelliJ;IPython/Jupyte...      Windows   \n",
              "83437                               PyCharm;Sublime Text        MacOS   \n",
              "83438                        IntelliJ;Visual Studio Code  Linux-based   \n",
              "\n",
              "                     Idade DefFis             TipoDev Genero  \\\n",
              "0      25-34 anos de idade    nao               outro  Homem   \n",
              "1      18-24 anos de idade    nao                 NaN  Homem   \n",
              "2      18-24 anos de idade    nao                 NaN  Homem   \n",
              "3      35-44 anos de idade    sim            frontend  Homem   \n",
              "4      25-34 anos de idade    nao  cientista de dados  Homem   \n",
              "...                    ...    ...                 ...    ...   \n",
              "83434  25-34 anos de idade    nao             backend  Homem   \n",
              "83435  18-24 anos de idade    nao           fullstack  Homem   \n",
              "83436  25-34 anos de idade    nao  cientista de dados  Homem   \n",
              "83437  25-34 anos de idade    nao             backend  Homem   \n",
              "83438  18-24 anos de idade    nao           fullstack  Homem   \n",
              "\n",
              "                   Etnia  \n",
              "0                 branco  \n",
              "1                 branco  \n",
              "2      prefere nao dizer  \n",
              "3                 branco  \n",
              "4                 branco  \n",
              "...                  ...  \n",
              "83434             branco  \n",
              "83435         nao branco  \n",
              "83436             branco  \n",
              "83437             branco  \n",
              "83438         nao branco  \n",
              "\n",
              "[83439 rows x 20 columns]"
            ],
            "text/html": [
              "\n",
              "  <div id=\"df-61938c6b-e784-40ab-bf43-7387455381d0\">\n",
              "    <div class=\"colab-df-container\">\n",
              "      <div>\n",
              "<style scoped>\n",
              "    .dataframe tbody tr th:only-of-type {\n",
              "        vertical-align: middle;\n",
              "    }\n",
              "\n",
              "    .dataframe tbody tr th {\n",
              "        vertical-align: top;\n",
              "    }\n",
              "\n",
              "    .dataframe thead th {\n",
              "        text-align: right;\n",
              "    }\n",
              "</style>\n",
              "<table border=\"1\" class=\"dataframe\">\n",
              "  <thead>\n",
              "    <tr style=\"text-align: right;\">\n",
              "      <th></th>\n",
              "      <th>Id</th>\n",
              "      <th>AreaAtuacao</th>\n",
              "      <th>Emprego</th>\n",
              "      <th>Pais</th>\n",
              "      <th>Escolaridade</th>\n",
              "      <th>AnosProg</th>\n",
              "      <th>AnosProgProf</th>\n",
              "      <th>LingJaTrab</th>\n",
              "      <th>BDJaTrab</th>\n",
              "      <th>CloudJaTrab</th>\n",
              "      <th>EstWebJaTrab</th>\n",
              "      <th>OutrasJaTrab</th>\n",
              "      <th>FerramJaTrab</th>\n",
              "      <th>AmbDevJaTrab</th>\n",
              "      <th>SO</th>\n",
              "      <th>Idade</th>\n",
              "      <th>DefFis</th>\n",
              "      <th>TipoDev</th>\n",
              "      <th>Genero</th>\n",
              "      <th>Etnia</th>\n",
              "    </tr>\n",
              "  </thead>\n",
              "  <tbody>\n",
              "    <tr>\n",
              "      <th>0</th>\n",
              "      <td>1</td>\n",
              "      <td>desenvolvedor profissional</td>\n",
              "      <td>contrato independente, freelancer ou autonomo</td>\n",
              "      <td>Eslovaquia</td>\n",
              "      <td>ensino medio</td>\n",
              "      <td>NaN</td>\n",
              "      <td>NaN</td>\n",
              "      <td>C++;HTML/CSS;JavaScript;Objective-C;PHP;Swift</td>\n",
              "      <td>PostgreSQL;SQLite</td>\n",
              "      <td>NaN</td>\n",
              "      <td>Laravel;Symfony</td>\n",
              "      <td>NaN</td>\n",
              "      <td>NaN</td>\n",
              "      <td>PHPStorm;Xcode</td>\n",
              "      <td>MacOS</td>\n",
              "      <td>25-34 anos de idade</td>\n",
              "      <td>nao</td>\n",
              "      <td>outro</td>\n",
              "      <td>Homem</td>\n",
              "      <td>branco</td>\n",
              "    </tr>\n",
              "    <tr>\n",
              "      <th>1</th>\n",
              "      <td>2</td>\n",
              "      <td>estudante aprendendo a programar</td>\n",
              "      <td>estudante tempo integral</td>\n",
              "      <td>Holanda</td>\n",
              "      <td>graduacao completa</td>\n",
              "      <td>7.0</td>\n",
              "      <td>NaN</td>\n",
              "      <td>JavaScript;Python</td>\n",
              "      <td>PostgreSQL</td>\n",
              "      <td>NaN</td>\n",
              "      <td>Angular;Flask;Vue.js</td>\n",
              "      <td>Cordova</td>\n",
              "      <td>Docker;Git;Yarn</td>\n",
              "      <td>Android Studio;IntelliJ;Notepad++;PyCharm</td>\n",
              "      <td>Windows</td>\n",
              "      <td>18-24 anos de idade</td>\n",
              "      <td>nao</td>\n",
              "      <td>NaN</td>\n",
              "      <td>Homem</td>\n",
              "      <td>branco</td>\n",
              "    </tr>\n",
              "    <tr>\n",
              "      <th>2</th>\n",
              "      <td>3</td>\n",
              "      <td>nao sou desenvolvedor mas as vezes programo co...</td>\n",
              "      <td>estudante tempo integral</td>\n",
              "      <td>Federacao Russa</td>\n",
              "      <td>graduacao completa</td>\n",
              "      <td>NaN</td>\n",
              "      <td>NaN</td>\n",
              "      <td>Assembly;C;Python;R;Rust</td>\n",
              "      <td>SQLite</td>\n",
              "      <td>Heroku</td>\n",
              "      <td>Flask</td>\n",
              "      <td>NumPy;Pandas;TensorFlow;Torch/PyTorch</td>\n",
              "      <td>NaN</td>\n",
              "      <td>IPython/Jupyter;PyCharm;RStudio;Sublime Text;V...</td>\n",
              "      <td>MacOS</td>\n",
              "      <td>18-24 anos de idade</td>\n",
              "      <td>nao</td>\n",
              "      <td>NaN</td>\n",
              "      <td>Homem</td>\n",
              "      <td>prefere nao dizer</td>\n",
              "    </tr>\n",
              "    <tr>\n",
              "      <th>3</th>\n",
              "      <td>4</td>\n",
              "      <td>desenvolvedor profissional</td>\n",
              "      <td>empregado tempo integral</td>\n",
              "      <td>Austria</td>\n",
              "      <td>mestrado</td>\n",
              "      <td>NaN</td>\n",
              "      <td>NaN</td>\n",
              "      <td>JavaScript;TypeScript</td>\n",
              "      <td>NaN</td>\n",
              "      <td>NaN</td>\n",
              "      <td>Angular;jQuery</td>\n",
              "      <td>NaN</td>\n",
              "      <td>NaN</td>\n",
              "      <td>NaN</td>\n",
              "      <td>Windows</td>\n",
              "      <td>35-44 anos de idade</td>\n",
              "      <td>sim</td>\n",
              "      <td>frontend</td>\n",
              "      <td>Homem</td>\n",
              "      <td>branco</td>\n",
              "    </tr>\n",
              "    <tr>\n",
              "      <th>4</th>\n",
              "      <td>5</td>\n",
              "      <td>desenvolvedor profissional</td>\n",
              "      <td>contrato independente, freelancer ou autonomo</td>\n",
              "      <td>Reino Unido</td>\n",
              "      <td>mestrado</td>\n",
              "      <td>17.0</td>\n",
              "      <td>10.0</td>\n",
              "      <td>Bash/Shell;HTML/CSS;Python;SQL</td>\n",
              "      <td>Elasticsearch;PostgreSQL;Redis</td>\n",
              "      <td>NaN</td>\n",
              "      <td>Flask</td>\n",
              "      <td>Apache Spark;Hadoop;NumPy;Pandas</td>\n",
              "      <td>Docker;Git;Kubernetes;Yarn</td>\n",
              "      <td>Atom;IPython/Jupyter;Notepad++;PyCharm;Vim</td>\n",
              "      <td>Linux-based</td>\n",
              "      <td>25-34 anos de idade</td>\n",
              "      <td>nao</td>\n",
              "      <td>cientista de dados</td>\n",
              "      <td>Homem</td>\n",
              "      <td>branco</td>\n",
              "    </tr>\n",
              "    <tr>\n",
              "      <th>...</th>\n",
              "      <td>...</td>\n",
              "      <td>...</td>\n",
              "      <td>...</td>\n",
              "      <td>...</td>\n",
              "      <td>...</td>\n",
              "      <td>...</td>\n",
              "      <td>...</td>\n",
              "      <td>...</td>\n",
              "      <td>...</td>\n",
              "      <td>...</td>\n",
              "      <td>...</td>\n",
              "      <td>...</td>\n",
              "      <td>...</td>\n",
              "      <td>...</td>\n",
              "      <td>...</td>\n",
              "      <td>...</td>\n",
              "      <td>...</td>\n",
              "      <td>...</td>\n",
              "      <td>...</td>\n",
              "      <td>...</td>\n",
              "    </tr>\n",
              "    <tr>\n",
              "      <th>83434</th>\n",
              "      <td>83435</td>\n",
              "      <td>desenvolvedor profissional</td>\n",
              "      <td>empregado tempo integral</td>\n",
              "      <td>Estados Unidos da America</td>\n",
              "      <td>graduacao completa</td>\n",
              "      <td>6.0</td>\n",
              "      <td>5.0</td>\n",
              "      <td>Clojure;Kotlin;SQL</td>\n",
              "      <td>Oracle;SQLite</td>\n",
              "      <td>AWS</td>\n",
              "      <td>NaN</td>\n",
              "      <td>NaN</td>\n",
              "      <td>Docker;Git</td>\n",
              "      <td>IntelliJ;Sublime Text;Vim;Visual Studio Code</td>\n",
              "      <td>MacOS</td>\n",
              "      <td>25-34 anos de idade</td>\n",
              "      <td>nao</td>\n",
              "      <td>backend</td>\n",
              "      <td>Homem</td>\n",
              "      <td>branco</td>\n",
              "    </tr>\n",
              "    <tr>\n",
              "      <th>83435</th>\n",
              "      <td>83436</td>\n",
              "      <td>desenvolvedor profissional</td>\n",
              "      <td>contrato independente, freelancer ou autonomo</td>\n",
              "      <td>Benim</td>\n",
              "      <td>graduacao completa</td>\n",
              "      <td>4.0</td>\n",
              "      <td>2.0</td>\n",
              "      <td>NaN</td>\n",
              "      <td>Firebase;MariaDB;MySQL;PostgreSQL;Redis;SQLite</td>\n",
              "      <td>NaN</td>\n",
              "      <td>Django;jQuery;Laravel;React.js;Ruby on Rails</td>\n",
              "      <td>Flutter;Qt</td>\n",
              "      <td>Git;Unity 3D;Unreal Engine</td>\n",
              "      <td>Android Studio;Eclipse;Emacs;IntelliJ;NetBeans...</td>\n",
              "      <td>Linux-based</td>\n",
              "      <td>18-24 anos de idade</td>\n",
              "      <td>nao</td>\n",
              "      <td>fullstack</td>\n",
              "      <td>Homem</td>\n",
              "      <td>nao branco</td>\n",
              "    </tr>\n",
              "    <tr>\n",
              "      <th>83436</th>\n",
              "      <td>83437</td>\n",
              "      <td>desenvolvedor profissional</td>\n",
              "      <td>empregado tempo integral</td>\n",
              "      <td>Estados Unidos da America</td>\n",
              "      <td>ensino medio</td>\n",
              "      <td>10.0</td>\n",
              "      <td>4.0</td>\n",
              "      <td>Groovy;Java;Python</td>\n",
              "      <td>DynamoDB;Elasticsearch;MongoDB;PostgreSQL;Redis</td>\n",
              "      <td>AWS;Google Cloud Platform</td>\n",
              "      <td>FastAPI;Flask</td>\n",
              "      <td>Hadoop;Keras;NumPy;Pandas</td>\n",
              "      <td>Ansible;Docker;Git;Terraform</td>\n",
              "      <td>Android Studio;Eclipse;IntelliJ;IPython/Jupyte...</td>\n",
              "      <td>Windows</td>\n",
              "      <td>25-34 anos de idade</td>\n",
              "      <td>nao</td>\n",
              "      <td>cientista de dados</td>\n",
              "      <td>Homem</td>\n",
              "      <td>branco</td>\n",
              "    </tr>\n",
              "    <tr>\n",
              "      <th>83437</th>\n",
              "      <td>83438</td>\n",
              "      <td>desenvolvedor profissional</td>\n",
              "      <td>empregado tempo integral</td>\n",
              "      <td>Canada</td>\n",
              "      <td>graduacao completa</td>\n",
              "      <td>5.0</td>\n",
              "      <td>3.0</td>\n",
              "      <td>Bash/Shell;JavaScript;Node.js;Python</td>\n",
              "      <td>Cassandra;Elasticsearch;MongoDB;PostgreSQL;Redis</td>\n",
              "      <td>Heroku</td>\n",
              "      <td>Django;Express;Flask;React.js</td>\n",
              "      <td>NumPy;Pandas;TensorFlow;Torch/PyTorch</td>\n",
              "      <td>Ansible;Docker;Git;Terraform</td>\n",
              "      <td>PyCharm;Sublime Text</td>\n",
              "      <td>MacOS</td>\n",
              "      <td>25-34 anos de idade</td>\n",
              "      <td>nao</td>\n",
              "      <td>backend</td>\n",
              "      <td>Homem</td>\n",
              "      <td>branco</td>\n",
              "    </tr>\n",
              "    <tr>\n",
              "      <th>83438</th>\n",
              "      <td>83439</td>\n",
              "      <td>desenvolvedor profissional</td>\n",
              "      <td>empregado tempo integral</td>\n",
              "      <td>Brasil</td>\n",
              "      <td>profissionalizante</td>\n",
              "      <td>14.0</td>\n",
              "      <td>4.0</td>\n",
              "      <td>Delphi;Elixir;HTML/CSS;Java;JavaScript</td>\n",
              "      <td>Oracle;PostgreSQL</td>\n",
              "      <td>Microsoft Azure</td>\n",
              "      <td>Angular;Spring</td>\n",
              "      <td>NaN</td>\n",
              "      <td>Docker;Git</td>\n",
              "      <td>IntelliJ;Visual Studio Code</td>\n",
              "      <td>Linux-based</td>\n",
              "      <td>18-24 anos de idade</td>\n",
              "      <td>nao</td>\n",
              "      <td>fullstack</td>\n",
              "      <td>Homem</td>\n",
              "      <td>nao branco</td>\n",
              "    </tr>\n",
              "  </tbody>\n",
              "</table>\n",
              "<p>83439 rows × 20 columns</p>\n",
              "</div>\n",
              "      <button class=\"colab-df-convert\" onclick=\"convertToInteractive('df-61938c6b-e784-40ab-bf43-7387455381d0')\"\n",
              "              title=\"Convert this dataframe to an interactive table.\"\n",
              "              style=\"display:none;\">\n",
              "        \n",
              "  <svg xmlns=\"http://www.w3.org/2000/svg\" height=\"24px\"viewBox=\"0 0 24 24\"\n",
              "       width=\"24px\">\n",
              "    <path d=\"M0 0h24v24H0V0z\" fill=\"none\"/>\n",
              "    <path d=\"M18.56 5.44l.94 2.06.94-2.06 2.06-.94-2.06-.94-.94-2.06-.94 2.06-2.06.94zm-11 1L8.5 8.5l.94-2.06 2.06-.94-2.06-.94L8.5 2.5l-.94 2.06-2.06.94zm10 10l.94 2.06.94-2.06 2.06-.94-2.06-.94-.94-2.06-.94 2.06-2.06.94z\"/><path d=\"M17.41 7.96l-1.37-1.37c-.4-.4-.92-.59-1.43-.59-.52 0-1.04.2-1.43.59L10.3 9.45l-7.72 7.72c-.78.78-.78 2.05 0 2.83L4 21.41c.39.39.9.59 1.41.59.51 0 1.02-.2 1.41-.59l7.78-7.78 2.81-2.81c.8-.78.8-2.07 0-2.86zM5.41 20L4 18.59l7.72-7.72 1.47 1.35L5.41 20z\"/>\n",
              "  </svg>\n",
              "      </button>\n",
              "      \n",
              "  <style>\n",
              "    .colab-df-container {\n",
              "      display:flex;\n",
              "      flex-wrap:wrap;\n",
              "      gap: 12px;\n",
              "    }\n",
              "\n",
              "    .colab-df-convert {\n",
              "      background-color: #E8F0FE;\n",
              "      border: none;\n",
              "      border-radius: 50%;\n",
              "      cursor: pointer;\n",
              "      display: none;\n",
              "      fill: #1967D2;\n",
              "      height: 32px;\n",
              "      padding: 0 0 0 0;\n",
              "      width: 32px;\n",
              "    }\n",
              "\n",
              "    .colab-df-convert:hover {\n",
              "      background-color: #E2EBFA;\n",
              "      box-shadow: 0px 1px 2px rgba(60, 64, 67, 0.3), 0px 1px 3px 1px rgba(60, 64, 67, 0.15);\n",
              "      fill: #174EA6;\n",
              "    }\n",
              "\n",
              "    [theme=dark] .colab-df-convert {\n",
              "      background-color: #3B4455;\n",
              "      fill: #D2E3FC;\n",
              "    }\n",
              "\n",
              "    [theme=dark] .colab-df-convert:hover {\n",
              "      background-color: #434B5C;\n",
              "      box-shadow: 0px 1px 3px 1px rgba(0, 0, 0, 0.15);\n",
              "      filter: drop-shadow(0px 1px 2px rgba(0, 0, 0, 0.3));\n",
              "      fill: #FFFFFF;\n",
              "    }\n",
              "  </style>\n",
              "\n",
              "      <script>\n",
              "        const buttonEl =\n",
              "          document.querySelector('#df-61938c6b-e784-40ab-bf43-7387455381d0 button.colab-df-convert');\n",
              "        buttonEl.style.display =\n",
              "          google.colab.kernel.accessAllowed ? 'block' : 'none';\n",
              "\n",
              "        async function convertToInteractive(key) {\n",
              "          const element = document.querySelector('#df-61938c6b-e784-40ab-bf43-7387455381d0');\n",
              "          const dataTable =\n",
              "            await google.colab.kernel.invokeFunction('convertToInteractive',\n",
              "                                                     [key], {});\n",
              "          if (!dataTable) return;\n",
              "\n",
              "          const docLinkHtml = 'Like what you see? Visit the ' +\n",
              "            '<a target=\"_blank\" href=https://colab.research.google.com/notebooks/data_table.ipynb>data table notebook</a>'\n",
              "            + ' to learn more about interactive tables.';\n",
              "          element.innerHTML = '';\n",
              "          dataTable['output_type'] = 'display_data';\n",
              "          await google.colab.output.renderOutput(dataTable, element);\n",
              "          const docLink = document.createElement('div');\n",
              "          docLink.innerHTML = docLinkHtml;\n",
              "          element.appendChild(docLink);\n",
              "        }\n",
              "      </script>\n",
              "    </div>\n",
              "  </div>\n",
              "  "
            ]
          },
          "metadata": {},
          "execution_count": 13
        }
      ]
    },
    {
      "cell_type": "code",
      "source": [
        "df['AnosProg'] = df['AnosProg'].fillna(0)"
      ],
      "metadata": {
        "id": "4drCppeJoGlU"
      },
      "execution_count": null,
      "outputs": []
    },
    {
      "cell_type": "code",
      "source": [
        "df['AnosProgProf'] = df['AnosProgProf'].fillna(0)"
      ],
      "metadata": {
        "id": "E2Gg_057oInr"
      },
      "execution_count": null,
      "outputs": []
    },
    {
      "cell_type": "markdown",
      "source": [
        "# Operações usando PySpark \n",
        "\n",
        "---\n",
        "\n",
        "\n",
        "---\n",
        "\n"
      ],
      "metadata": {
        "id": "4xxwdeEpR8Zm"
      }
    },
    {
      "cell_type": "markdown",
      "source": [
        "Dados inconsistentes foram tratados e colunas foram retiradas no Pandas. No Pyspark e sparkSql será feita algumas análises.\n",
        "\n",
        "---\n",
        "\n"
      ],
      "metadata": {
        "id": "8V-Mw96_gfeb"
      }
    },
    {
      "cell_type": "markdown",
      "source": [
        "* Lendo arquivos CSV com esquema personalizado através do DataFrame Pandas já tratado\n",
        "\n"
      ],
      "metadata": {
        "id": "Wh0uCucY8tsA"
      }
    },
    {
      "cell_type": "code",
      "source": [
        "spark = (\n",
        "    SparkSession.builder\n",
        "                .master('local')\n",
        "                .appName('projeto_final')\n",
        "                .config('spark.ui.port',  '4050')\n",
        "                .getOrCreate()\n",
        ")"
      ],
      "metadata": {
        "id": "8mRQzKSAjm5U"
      },
      "execution_count": null,
      "outputs": []
    },
    {
      "cell_type": "code",
      "source": [
        "schema = ( StructType ([\n",
        "           \n",
        "    StructField('Id', IntegerType()),                 \n",
        "    StructField('AreaAtuacao', StringType(), True),        \n",
        "    StructField('Emprego', StringType(), True),               \n",
        "    StructField('Pais', StringType(), True),             \n",
        "    StructField('Escolaridade', StringType(), True),    \n",
        "    StructField('AnosProg', FloatType(), True),\n",
        "    StructField('AnosProgProf', FloatType(), True),    \n",
        "    StructField('LingJaTrab', StringType(), True),   \n",
        "    StructField('BDJaTrab', StringType(), True),    \n",
        "    StructField('CloudJaTrab', StringType(), True),    \n",
        "    StructField('EstWebJaTrab', StringType(), True),    \n",
        "    StructField('OutrasJaTrab', StringType(), True),    \n",
        "    StructField('FerramJaTrab', StringType(), True),   \n",
        "    StructField('AmbDevJaTrab', StringType(), True),    \n",
        "    StructField('SO', StringType(), True),    \n",
        "    StructField('Idade', StringType(), True),    \n",
        "    StructField('DefFis', StringType(), True),\n",
        "    StructField('TipoDev', StringType(), True),\n",
        "    StructField('Genero', StringType(), True),   \n",
        "    StructField('Etnia', StringType(), True)    \n",
        "            \n",
        "  ])\n",
        ")"
      ],
      "metadata": {
        "id": "f5Zz16Ot4Axq"
      },
      "execution_count": null,
      "outputs": []
    },
    {
      "cell_type": "markdown",
      "source": [
        "* criando o DataFrame a partir do DataFrame Pandas\n",
        "\n"
      ],
      "metadata": {
        "id": "tdVa_6mM9bQ4"
      }
    },
    {
      "cell_type": "code",
      "source": [
        "df_spark = spark.createDataFrame(df, schema=schema)"
      ],
      "metadata": {
        "id": "jdvZM3g4_DOF"
      },
      "execution_count": null,
      "outputs": []
    },
    {
      "cell_type": "markdown",
      "source": [
        "* Estrutura do dataframe"
      ],
      "metadata": {
        "id": "_qmSps4K97f3"
      }
    },
    {
      "cell_type": "code",
      "source": [
        "df_spark.printSchema()"
      ],
      "metadata": {
        "id": "CbWLi-VLGxFB",
        "colab": {
          "base_uri": "https://localhost:8080/"
        },
        "outputId": "0bf9a23f-1086-4b25-b3eb-2da6c0245e5f"
      },
      "execution_count": null,
      "outputs": [
        {
          "output_type": "stream",
          "name": "stdout",
          "text": [
            "root\n",
            " |-- Id: integer (nullable = true)\n",
            " |-- AreaAtuacao: string (nullable = true)\n",
            " |-- Emprego: string (nullable = true)\n",
            " |-- Pais: string (nullable = true)\n",
            " |-- Escolaridade: string (nullable = true)\n",
            " |-- AnosProg: float (nullable = true)\n",
            " |-- AnosProgProf: float (nullable = true)\n",
            " |-- LingJaTrab: string (nullable = true)\n",
            " |-- BDJaTrab: string (nullable = true)\n",
            " |-- CloudJaTrab: string (nullable = true)\n",
            " |-- EstWebJaTrab: string (nullable = true)\n",
            " |-- OutrasJaTrab: string (nullable = true)\n",
            " |-- FerramJaTrab: string (nullable = true)\n",
            " |-- AmbDevJaTrab: string (nullable = true)\n",
            " |-- SO: string (nullable = true)\n",
            " |-- Idade: string (nullable = true)\n",
            " |-- DefFis: string (nullable = true)\n",
            " |-- TipoDev: string (nullable = true)\n",
            " |-- Genero: string (nullable = true)\n",
            " |-- Etnia: string (nullable = true)\n",
            "\n"
          ]
        }
      ]
    },
    {
      "cell_type": "markdown",
      "source": [
        "* DataFrame"
      ],
      "metadata": {
        "id": "Hc5fivcc-TT3"
      }
    },
    {
      "cell_type": "code",
      "source": [
        "df_spark.show(5)"
      ],
      "metadata": {
        "id": "o0FzvNcGBsTw",
        "colab": {
          "base_uri": "https://localhost:8080/"
        },
        "outputId": "2db0b295-8f4a-416b-8db6-a5fb69cda251"
      },
      "execution_count": null,
      "outputs": [
        {
          "output_type": "stream",
          "name": "stdout",
          "text": [
            "+---+--------------------+--------------------+---------------+------------------+--------+------------+--------------------+--------------------+-----------+--------------------+--------------------+--------------------+--------------------+-----------+-------------------+------+------------------+------+-----------------+\n",
            "| Id|         AreaAtuacao|             Emprego|           Pais|      Escolaridade|AnosProg|AnosProgProf|          LingJaTrab|            BDJaTrab|CloudJaTrab|        EstWebJaTrab|        OutrasJaTrab|        FerramJaTrab|        AmbDevJaTrab|         SO|              Idade|DefFis|           TipoDev|Genero|            Etnia|\n",
            "+---+--------------------+--------------------+---------------+------------------+--------+------------+--------------------+--------------------+-----------+--------------------+--------------------+--------------------+--------------------+-----------+-------------------+------+------------------+------+-----------------+\n",
            "|  1|desenvolvedor pro...|contrato independ...|     Eslovaquia|      ensino medio|     0.0|         0.0|C++;HTML/CSS;Java...|   PostgreSQL;SQLite|        NaN|     Laravel;Symfony|                 NaN|                 NaN|      PHPStorm;Xcode|      MacOS|25-34 anos de idade|   nao|             outro| Homem|           branco|\n",
            "|  2|estudante aprende...|estudante tempo i...|        Holanda|graduacao completa|     7.0|         0.0|   JavaScript;Python|          PostgreSQL|        NaN|Angular;Flask;Vue.js|             Cordova|     Docker;Git;Yarn|Android Studio;In...|    Windows|18-24 anos de idade|   nao|               NaN| Homem|           branco|\n",
            "|  3|nao sou desenvolv...|estudante tempo i...|Federacao Russa|graduacao completa|     0.0|         0.0|Assembly;C;Python...|              SQLite|     Heroku|               Flask|NumPy;Pandas;Tens...|                 NaN|IPython/Jupyter;P...|      MacOS|18-24 anos de idade|   nao|               NaN| Homem|prefere nao dizer|\n",
            "|  4|desenvolvedor pro...|empregado tempo i...|        Austria|          mestrado|     0.0|         0.0|JavaScript;TypeSc...|                 NaN|        NaN|      Angular;jQuery|                 NaN|                 NaN|                 NaN|    Windows|35-44 anos de idade|   sim|          frontend| Homem|           branco|\n",
            "|  5|desenvolvedor pro...|contrato independ...|    Reino Unido|          mestrado|    17.0|        10.0|Bash/Shell;HTML/C...|Elasticsearch;Pos...|        NaN|               Flask|Apache Spark;Hado...|Docker;Git;Kubern...|Atom;IPython/Jupy...|Linux-based|25-34 anos de idade|   nao|cientista de dados| Homem|           branco|\n",
            "+---+--------------------+--------------------+---------------+------------------+--------+------------+--------------------+--------------------+-----------+--------------------+--------------------+--------------------+--------------------+-----------+-------------------+------+------------------+------+-----------------+\n",
            "only showing top 5 rows\n",
            "\n"
          ]
        }
      ]
    },
    {
      "cell_type": "markdown",
      "source": [
        "* identificação de valores nulos"
      ],
      "metadata": {
        "id": "m4q712oh-Y_4"
      }
    },
    {
      "cell_type": "code",
      "source": [
        "df_spark.select([F.count(F.when(F.col(c).isNull(), c)).alias(c) for c in df.columns]).show()"
      ],
      "metadata": {
        "id": "VxQ2T5nc0oU7",
        "colab": {
          "base_uri": "https://localhost:8080/"
        },
        "outputId": "6f91e93f-7d0e-4ec5-f0cf-fdde57f6dd42"
      },
      "execution_count": null,
      "outputs": [
        {
          "output_type": "stream",
          "name": "stdout",
          "text": [
            "+---+-----------+-------+----+------------+--------+------------+----------+--------+-----------+------------+------------+------------+------------+---+-----+------+-------+------+-----+\n",
            "| Id|AreaAtuacao|Emprego|Pais|Escolaridade|AnosProg|AnosProgProf|LingJaTrab|BDJaTrab|CloudJaTrab|EstWebJaTrab|OutrasJaTrab|FerramJaTrab|AmbDevJaTrab| SO|Idade|DefFis|TipoDev|Genero|Etnia|\n",
            "+---+-----------+-------+----+------------+--------+------------+----------+--------+-----------+------------+------------+------------+------------+---+-----+------+-------+------+-----+\n",
            "|  0|          0|      0|   0|           0|       0|           0|         0|       0|          0|           0|           0|           0|           0|  0|    0|     0|      0|     0|    0|\n",
            "+---+-----------+-------+----+------------+--------+------------+----------+--------+-----------+------------+------------+------------+------------+---+-----+------+-------+------+-----+\n",
            "\n"
          ]
        }
      ]
    },
    {
      "cell_type": "markdown",
      "source": [
        "#Analises"
      ],
      "metadata": {
        "id": "ULaHYJOrNClm"
      }
    },
    {
      "cell_type": "markdown",
      "source": [
        "## Spark e SparkSQL\n",
        "\n",
        "---\n",
        "\n"
      ],
      "metadata": {
        "id": "zUER54Ae_siH"
      }
    },
    {
      "cell_type": "markdown",
      "source": [
        "* Quantidade por área de atuação"
      ],
      "metadata": {
        "id": "N2RK5pbH-xqW"
      }
    },
    {
      "cell_type": "code",
      "source": [
        "df_AreaAtuacao = df_spark.groupBy('AreaAtuacao').count()\n",
        "df_AreaAtuacao.show()"
      ],
      "metadata": {
        "id": "JDRAaj1NNAgD",
        "colab": {
          "base_uri": "https://localhost:8080/"
        },
        "outputId": "d9ec5335-5dfe-48ae-89d9-1ab0b8759939"
      },
      "execution_count": null,
      "outputs": [
        {
          "output_type": "stream",
          "name": "stdout",
          "text": [
            "+--------------------+-----+\n",
            "|         AreaAtuacao|count|\n",
            "+--------------------+-----+\n",
            "|desenvolvedor pro...|58153|\n",
            "|fui desenvolvedor...| 1237|\n",
            "|nao sou desenvolv...| 6578|\n",
            "|estudante aprende...|12029|\n",
            "|  nenhuma das opcoes|  513|\n",
            "|  programo por hobby| 4929|\n",
            "+--------------------+-----+\n",
            "\n"
          ]
        }
      ]
    },
    {
      "cell_type": "markdown",
      "source": [
        "* Quantidade por tipo de emprego"
      ],
      "metadata": {
        "id": "f8nYGKGx-3pW"
      }
    },
    {
      "cell_type": "code",
      "source": [
        "df_Emprego = df_spark.groupBy('Emprego').count()\n",
        "df_Emprego.show()"
      ],
      "metadata": {
        "id": "Eg2r5Yl5Nxeh",
        "colab": {
          "base_uri": "https://localhost:8080/"
        },
        "outputId": "cfbf3edb-66cb-4768-b0a4-6f3e765907d3"
      },
      "execution_count": null,
      "outputs": [
        {
          "output_type": "stream",
          "name": "stdout",
          "text": [
            "+--------------------+-----+\n",
            "|             Emprego|count|\n",
            "+--------------------+-----+\n",
            "|prefiro não respo...|  890|\n",
            "|          aposentado|  326|\n",
            "|estudante tempo i...|11781|\n",
            "|empregado tempo i...|53584|\n",
            "|desempregado, pro...| 2961|\n",
            "|empregado tempo p...| 2461|\n",
            "|desempregado, não...| 1228|\n",
            "|                 NaN|  116|\n",
            "|estudante tempo p...| 2051|\n",
            "|contrato independ...| 8041|\n",
            "+--------------------+-----+\n",
            "\n"
          ]
        }
      ]
    },
    {
      "cell_type": "markdown",
      "source": [
        "* Quantidade por Escolaridade"
      ],
      "metadata": {
        "id": "qFwUzLPw-84G"
      }
    },
    {
      "cell_type": "code",
      "source": [
        "df_Escolaridade = df_spark.groupBy('Escolaridade').count()\n",
        "df_Escolaridade.show()"
      ],
      "metadata": {
        "id": "11pzgIP0PD43",
        "colab": {
          "base_uri": "https://localhost:8080/"
        },
        "outputId": "7d16d71a-c78e-4381-ad35-d64abab77da0"
      },
      "execution_count": null,
      "outputs": [
        {
          "output_type": "stream",
          "name": "stdout",
          "text": [
            "+--------------------+-----+\n",
            "|        Escolaridade|count|\n",
            "+--------------------+-----+\n",
            "|  graduacao completa|35357|\n",
            "|           doutorado| 2567|\n",
            "|  profissionalizante| 1256|\n",
            "|            mestrado|17512|\n",
            "|  ensino fundamental| 2479|\n",
            "|           tecnologo| 2231|\n",
            "|                 NaN|  313|\n",
            "|        ensino medio| 9534|\n",
            "|              outros| 1601|\n",
            "|graduacao incompleta|10589|\n",
            "+--------------------+-----+\n",
            "\n"
          ]
        }
      ]
    },
    {
      "cell_type": "markdown",
      "source": [
        "* Quantidade por Etnia"
      ],
      "metadata": {
        "id": "kw_Ng9sA_Drm"
      }
    },
    {
      "cell_type": "code",
      "source": [
        "df_Etnia = df_spark.groupBy('Etnia').count()\n",
        "df_Etnia.show()"
      ],
      "metadata": {
        "id": "NTe7A-rzN2rd",
        "colab": {
          "base_uri": "https://localhost:8080/"
        },
        "outputId": "1e1378d2-e8f5-4f6f-b7c7-dc94a022e995"
      },
      "execution_count": null,
      "outputs": [
        {
          "output_type": "stream",
          "name": "stdout",
          "text": [
            "+-----------------+-----+\n",
            "|            Etnia|count|\n",
            "+-----------------+-----+\n",
            "|       nao branco|27554|\n",
            "|         nao sabe| 2414|\n",
            "|           branco|46434|\n",
            "|              NaN| 3975|\n",
            "|prefere nao dizer| 3062|\n",
            "+-----------------+-----+\n",
            "\n"
          ]
        }
      ]
    },
    {
      "cell_type": "markdown",
      "source": [
        "* mostra o pais Brasil juntamente com tipo de emprego e escolaridade"
      ],
      "metadata": {
        "id": "hzOZaQP1_LXW"
      }
    },
    {
      "cell_type": "code",
      "source": [
        "df_ee = df_spark.select(F.col('Pais'), F.col('Emprego'), F.col('Escolaridade')).filter(F.col('Pais') == 'Brasil')\n",
        "df_ee.show()"
      ],
      "metadata": {
        "id": "4octU6gftuqm",
        "colab": {
          "base_uri": "https://localhost:8080/"
        },
        "outputId": "041b5f58-ebb1-41a5-a7ba-ad283d50bbab"
      },
      "execution_count": null,
      "outputs": [
        {
          "output_type": "stream",
          "name": "stdout",
          "text": [
            "+------+--------------------+--------------------+\n",
            "|  Pais|             Emprego|        Escolaridade|\n",
            "+------+--------------------+--------------------+\n",
            "|Brasil|empregado tempo i...|  graduacao completa|\n",
            "|Brasil|empregado tempo i...|  graduacao completa|\n",
            "|Brasil|empregado tempo i...|graduacao incompleta|\n",
            "|Brasil|empregado tempo i...|  graduacao completa|\n",
            "|Brasil|empregado tempo i...|  graduacao completa|\n",
            "|Brasil|                 NaN|        ensino medio|\n",
            "|Brasil|empregado tempo i...|  graduacao completa|\n",
            "|Brasil|contrato independ...|            mestrado|\n",
            "|Brasil|empregado tempo i...|  profissionalizante|\n",
            "|Brasil|desempregado, não...|  graduacao completa|\n",
            "|Brasil|empregado tempo i...|  graduacao completa|\n",
            "|Brasil|contrato independ...|graduacao incompleta|\n",
            "|Brasil|contrato independ...|  graduacao completa|\n",
            "|Brasil|contrato independ...|            mestrado|\n",
            "|Brasil|empregado tempo i...|  graduacao completa|\n",
            "|Brasil|empregado tempo i...|graduacao incompleta|\n",
            "|Brasil|contrato independ...|  profissionalizante|\n",
            "|Brasil|empregado tempo i...|  graduacao completa|\n",
            "|Brasil|empregado tempo p...|  ensino fundamental|\n",
            "|Brasil|empregado tempo i...|  graduacao completa|\n",
            "+------+--------------------+--------------------+\n",
            "only showing top 20 rows\n",
            "\n"
          ]
        }
      ]
    },
    {
      "cell_type": "markdown",
      "source": [
        "* mostra o pais Brasil juntamento com tipo de emprego e escolaridade, Anos Programando e Anos programando profissionalmente"
      ],
      "metadata": {
        "id": "Ef7nTG6V_bMN"
      }
    },
    {
      "cell_type": "code",
      "source": [
        "df_peaa = df_spark.select(F.col('Pais'), F.col('Emprego'), F.col('AnosProg'), F.col('AnosProgProf')).filter(F.col('Pais') == 'Brasil')\n",
        "df_peaa.show()"
      ],
      "metadata": {
        "id": "gxBNtVsKyXJ6",
        "colab": {
          "base_uri": "https://localhost:8080/"
        },
        "outputId": "a57e4d24-3d35-40c3-ca49-92db42fd39f4"
      },
      "execution_count": null,
      "outputs": [
        {
          "output_type": "stream",
          "name": "stdout",
          "text": [
            "+------+--------------------+--------+------------+\n",
            "|  Pais|             Emprego|AnosProg|AnosProgProf|\n",
            "+------+--------------------+--------+------------+\n",
            "|Brasil|empregado tempo i...|    12.0|         9.0|\n",
            "|Brasil|empregado tempo i...|    22.0|        15.0|\n",
            "|Brasil|empregado tempo i...|    12.0|        12.0|\n",
            "|Brasil|empregado tempo i...|    10.0|        15.0|\n",
            "|Brasil|empregado tempo i...|    16.0|        12.0|\n",
            "|Brasil|                 NaN|     2.0|         0.0|\n",
            "|Brasil|empregado tempo i...|     5.0|         4.0|\n",
            "|Brasil|contrato independ...|     9.0|         7.0|\n",
            "|Brasil|empregado tempo i...|     4.0|         4.0|\n",
            "|Brasil|desempregado, não...|    15.0|         0.0|\n",
            "|Brasil|empregado tempo i...|     8.0|         3.0|\n",
            "|Brasil|contrato independ...|    18.0|        14.0|\n",
            "|Brasil|contrato independ...|     6.0|         4.0|\n",
            "|Brasil|contrato independ...|    14.0|         4.0|\n",
            "|Brasil|empregado tempo i...|     6.0|         4.0|\n",
            "|Brasil|empregado tempo i...|    18.0|        15.0|\n",
            "|Brasil|contrato independ...|     7.0|         0.0|\n",
            "|Brasil|empregado tempo i...|    20.0|        24.0|\n",
            "|Brasil|empregado tempo p...|    30.0|         0.0|\n",
            "|Brasil|empregado tempo i...|     0.0|         0.0|\n",
            "+------+--------------------+--------+------------+\n",
            "only showing top 20 rows\n",
            "\n"
          ]
        }
      ]
    },
    {
      "cell_type": "markdown",
      "source": [
        "## Spark Sql"
      ],
      "metadata": {
        "id": "wnRfsgVDVTlw"
      }
    },
    {
      "cell_type": "markdown",
      "source": [
        "* Tabela a partir do DataFrame spark "
      ],
      "metadata": {
        "id": "fiGYknesAFS-"
      }
    },
    {
      "cell_type": "code",
      "source": [
        "df_spark.createOrReplaceTempView('tabela_projeto_final')\n",
        "spark.sql('select * from tabela_projeto_final')"
      ],
      "metadata": {
        "id": "q1JFfulrhEXq",
        "colab": {
          "base_uri": "https://localhost:8080/"
        },
        "outputId": "f6b22755-0cf8-40ec-c4be-74d0bd047990"
      },
      "execution_count": null,
      "outputs": [
        {
          "output_type": "execute_result",
          "data": {
            "text/plain": [
              "DataFrame[Id: int, AreaAtuacao: string, Emprego: string, Pais: string, Escolaridade: string, AnosProg: float, AnosProgProf: float, LingJaTrab: string, BDJaTrab: string, CloudJaTrab: string, EstWebJaTrab: string, OutrasJaTrab: string, FerramJaTrab: string, AmbDevJaTrab: string, SO: string, Idade: string, DefFis: string, TipoDev: string, Genero: string, Etnia: string]"
            ]
          },
          "metadata": {},
          "execution_count": 28
        }
      ]
    },
    {
      "cell_type": "markdown",
      "source": [
        "* Profissionais com mais de 25 anos Programando no Brasil"
      ],
      "metadata": {
        "id": "KZ-xT2-ZArZH"
      }
    },
    {
      "cell_type": "code",
      "source": [
        "spark.sql('SELECT * FROM tabela_projeto_final WHERE AnosProg > 25 and Pais == \"Brasil\"').show()"
      ],
      "metadata": {
        "id": "bA6VVFRukfmK",
        "colab": {
          "base_uri": "https://localhost:8080/"
        },
        "outputId": "bb045673-3b11-44bf-ddd3-fe0ff501b8bb"
      },
      "execution_count": null,
      "outputs": [
        {
          "output_type": "stream",
          "name": "stdout",
          "text": [
            "+-----+--------------------+--------------------+------+--------------------+--------+------------+--------------------+--------------------+--------------------+--------------------+--------------------+--------------------+--------------------+--------------------+-------------------+------+------------------+------+----------+\n",
            "|   Id|         AreaAtuacao|             Emprego|  Pais|        Escolaridade|AnosProg|AnosProgProf|          LingJaTrab|            BDJaTrab|         CloudJaTrab|        EstWebJaTrab|        OutrasJaTrab|        FerramJaTrab|        AmbDevJaTrab|                  SO|              Idade|DefFis|           TipoDev|Genero|     Etnia|\n",
            "+-----+--------------------+--------------------+------+--------------------+--------+------------+--------------------+--------------------+--------------------+--------------------+--------------------+--------------------+--------------------+--------------------+-------------------+------+------------------+------+----------+\n",
            "|  984|  programo por hobby|empregado tempo p...|Brasil|  ensino fundamental|    30.0|         0.0|                 NaN|    MySQL;PostgreSQL|                 NaN|                 NaN|      .NET Framework|                 Git|Notepad++;RStudio...|             Windows|45-54 anos de idade|   nao|             outro| Homem|    branco|\n",
            "| 3014|desenvolvedor pro...|empregado tempo i...|Brasil|            mestrado|    29.0|        20.0|Bash/Shell;C;HTML...|MySQL;Oracle;Post...|                 AWS|      Angular;jQuery|                 NaN|          Docker;Git|Atom;Eclipse;Emac...|         Linux-based|35-44 anos de idade|   nao|         fullstack| Homem|nao branco|\n",
            "| 4560|nao sou desenvolv...|empregado tempo i...|Brasil|  graduacao completa|    32.0|        18.0|Bash/Shell;C;HTML...|DynamoDB;Elastics...|AWS;DigitalOcean;...|                 NaN|        NumPy;Pandas|      Git;Kubernetes|IPython/Jupyter;N...|         Linux-based|35-44 anos de idade|   nao|cientista de dados| Homem|    branco|\n",
            "| 5748|nao sou desenvolv...|contrato independ...|Brasil|graduacao incompleta|    30.0|        20.0|Bash/Shell;HTML/C...|Elasticsearch;Mar...|AWS;DigitalOcean;...|        Django;Flask|        NumPy;Pandas|Ansible;Docker;Gi...|IPython/Jupyter;P...|         Linux-based|35-44 anos de idade|   nao|             outro| Homem|nao branco|\n",
            "| 6825|desenvolvedor pro...|empregado tempo i...|Brasil|        ensino medio|    30.0|        25.0|Bash/Shell;C;HTML...|MySQL;PostgreSQL;...|AWS;DigitalOcean;...|jQuery;Laravel;Ru...|                 NaN|            Git;Yarn|Android Studio;Ne...|         Linux-based|45-54 anos de idade|   nao|cientista de dados| Homem|nao branco|\n",
            "| 7284|desenvolvedor pro...|empregado tempo i...|Brasil|  graduacao completa|    28.0|        20.0|Delphi;Java;Ruby;...|              Oracle|                 NaN|                 NaN|                 NaN|          Docker;Git|NetBeans;Visual S...|             Windows|35-44 anos de idade|   nao|cientista de dados| Homem|    branco|\n",
            "| 7336|desenvolvedor pro...|empregado tempo i...|Brasil|  graduacao completa|    40.0|        31.0|C;Go;JavaScript;N...|  MongoDB;PostgreSQL|AWS;Google Cloud ...|                 NaN|                 NaN|                 Git|   Vim;Visual Studio|         Linux-based|45-54 anos de idade|   nao|cientista de dados| Homem|    branco|\n",
            "| 7644|desenvolvedor pro...|contrato independ...|Brasil|  graduacao completa|    37.0|        37.0|                  C#|      MariaDB;SQLite|                 NaN|       ASP.NET Core |  .NET Core / .NET 5|                 Git|       Visual Studio|             Windows|45-54 anos de idade|   NaN|         fullstack| Homem|    branco|\n",
            "| 8027|desenvolvedor pro...|empregado tempo i...|Brasil|  graduacao completa|    26.0|        24.0|Bash/Shell;Python...|          PostgreSQL|                 NaN|               Flask|Apache Spark;Hado...|            Git;Yarn|IPython/Jupyter;N...|         Linux-based|35-44 anos de idade|   nao|cientista de dados| Homem|    branco|\n",
            "| 9056|desenvolvedor pro...|empregado tempo i...|Brasil|  graduacao completa|    33.0|        26.0|Bash/Shell;Go;HTM...|Microsoft SQL Ser...|    AWS;DigitalOcean|        Flask;jQuery|                 NaN|  Ansible;Docker;Git|Neovim;Vim;Visual...|         Linux-based|35-44 anos de idade|   nao|cientista de dados| Homem|    branco|\n",
            "| 9250|desenvolvedor pro...|empregado tempo i...|Brasil|           tecnologo|    38.0|        28.0|C#;HTML/CSS;JavaS...|MariaDB;Microsoft...|                 AWS|Angular;ASP.NET;j...|.NET Framework;.N...|          Docker;Git|IPython/Jupyter;N...|Windows Subsystem...|45-54 anos de idade|   nao|cientista de dados| Homem|    branco|\n",
            "| 9600|desenvolvedor pro...|empregado tempo i...|Brasil|           tecnologo|    26.0|        23.0|C#;HTML/CSS;JavaS...|Microsoft SQL Server|                 NaN|Angular;ASP.NET;A...|.NET Framework;.N...|                 Git|Notepad++;Visual ...|             Windows|35-44 anos de idade|   nao|         fullstack| Homem|       NaN|\n",
            "| 9968|desenvolvedor pro...|desempregado, pro...|Brasil|           tecnologo|    31.0|         0.0|Bash/Shell;HTML/C...|Firebase;MySQL;SQ...|IBM Cloud or Wats...|Express;Flask;Rea...|.NET Core / .NET ...|     Docker;Git;Yarn|Android Studio;In...|         Linux-based|45-54 anos de idade|   nao|         fullstack| Homem|    branco|\n",
            "|10638|desenvolvedor pro...|contrato independ...|Brasil|graduacao incompleta|    35.0|        30.0|Bash/Shell;C#;COB...|Cassandra;DynamoD...|AWS;DigitalOcean;...|Angular;Angular.j...|.NET Framework;Fl...|Ansible;Chef;Dock...|Android Studio;At...|               MacOS|35-44 anos de idade|outros|cientista de dados| Homem|    branco|\n",
            "|15168|desenvolvedor pro...|empregado tempo i...|Brasil|  graduacao completa|    27.0|        12.0|                Java|                 NaN|                 NaN|                 NaN|                 NaN|                 NaN|             Eclipse|             Windows|35-44 anos de idade|   nao|             outro| Homem|    branco|\n",
            "|15436|  nenhuma das opcoes|empregado tempo i...|Brasil|           doutorado|    40.0|        35.0|Assembly;Bash/She...|                 NaN|                 NaN|                 NaN|                 NaN|                 Git|                 Vim|               MacOS|55-64 anos de idade|   nao|             outro| Homem|    branco|\n",
            "|15457|desenvolvedor pro...|empregado tempo i...|Brasil|  graduacao completa|    28.0|        20.0|            C;C#;C++|             IBM DB2|                 NaN|                 NaN|.NET Framework;.N...|                 NaN|Notepad++;Visual ...|             Windows|55-64 anos de idade|   nao|           backend| Homem|    branco|\n",
            "|15485|  programo por hobby|empregado tempo i...|Brasil|graduacao incompleta|    27.0|         0.0|              Delphi|                 NaN|     Microsoft Azure|                 NaN|                 NaN|                 Git|                 NaN|             Windows|35-44 anos de idade|   nao|         fullstack| Homem|    branco|\n",
            "|15622|fui desenvolvedor...|empregado tempo i...|Brasil|            mestrado|    35.0|        30.0| C;C#;Java;Swift;VBA|Microsoft SQL Server| IBM Cloud or Watson|             ASP.NET|      .NET Framework|  Docker;Git;Xamarin|Android Studio;Vi...|             Windows|55-64 anos de idade|   nao|             outro| Homem|nao branco|\n",
            "|16333|desenvolvedor pro...|empregado tempo i...|Brasil|  profissionalizante|    32.0|        28.0|Delphi;HTML/CSS;J...|       Oracle;SQLite|                 AWS|              jQuery|                 NaN|                 NaN|Notepad++;Sublime...|             Windows|45-54 anos de idade|   nao|cientista de dados| Homem|nao branco|\n",
            "+-----+--------------------+--------------------+------+--------------------+--------+------------+--------------------+--------------------+--------------------+--------------------+--------------------+--------------------+--------------------+--------------------+-------------------+------+------------------+------+----------+\n",
            "only showing top 20 rows\n",
            "\n"
          ]
        }
      ]
    },
    {
      "cell_type": "markdown",
      "source": [
        "* Quantidade de registros de proficionais com escolaridade profissionalizante"
      ],
      "metadata": {
        "id": "mvq8wbxBA8hl"
      }
    },
    {
      "cell_type": "code",
      "source": [
        "spark.sql('SELECT COUNT(*) FROM tabela_projeto_final WHERE  Escolaridade == \"profissionalizante\"').show()"
      ],
      "metadata": {
        "id": "8fpxXMNFqI1F",
        "colab": {
          "base_uri": "https://localhost:8080/"
        },
        "outputId": "d91e325b-48d4-4787-f05a-07880116794c"
      },
      "execution_count": null,
      "outputs": [
        {
          "output_type": "stream",
          "name": "stdout",
          "text": [
            "+--------+\n",
            "|count(1)|\n",
            "+--------+\n",
            "|    1256|\n",
            "+--------+\n",
            "\n"
          ]
        }
      ]
    },
    {
      "cell_type": "markdown",
      "source": [
        "* Quantidade de profissionais que programa no brasil com mais de 25 anos de atuação"
      ],
      "metadata": {
        "id": "KWhhyympBMDk"
      }
    },
    {
      "cell_type": "code",
      "source": [
        "spark.sql('SELECT COUNT(*) FROM tabela_projeto_final WHERE AnosProg > 25 and Pais == \"Brasil\"').show()"
      ],
      "metadata": {
        "id": "l1AnhUmgq3Vp",
        "colab": {
          "base_uri": "https://localhost:8080/"
        },
        "outputId": "a99c9fd1-c6c6-486a-b64a-37005484cdde"
      },
      "execution_count": null,
      "outputs": [
        {
          "output_type": "stream",
          "name": "stdout",
          "text": [
            "+--------+\n",
            "|count(1)|\n",
            "+--------+\n",
            "|     133|\n",
            "+--------+\n",
            "\n"
          ]
        }
      ]
    },
    {
      "cell_type": "markdown",
      "source": [
        "* Quantidade a nivel mundo por escolaridade"
      ],
      "metadata": {
        "id": "1icCbKThBiVL"
      }
    },
    {
      "cell_type": "code",
      "source": [
        "spark.sql('SELECT Escolaridade, COUNT(Escolaridade) AS Quantidade_total FROM tabela_projeto_final GROUP BY Escolaridade').show()"
      ],
      "metadata": {
        "id": "1ewqKBbWr6DG",
        "colab": {
          "base_uri": "https://localhost:8080/"
        },
        "outputId": "ba36ccb7-7282-414a-a47f-b9d1e0b4aa95"
      },
      "execution_count": null,
      "outputs": [
        {
          "output_type": "stream",
          "name": "stdout",
          "text": [
            "+--------------------+----------------+\n",
            "|        Escolaridade|Quantidade_total|\n",
            "+--------------------+----------------+\n",
            "|  graduacao completa|           35357|\n",
            "|           doutorado|            2567|\n",
            "|  profissionalizante|            1256|\n",
            "|            mestrado|           17512|\n",
            "|  ensino fundamental|            2479|\n",
            "|           tecnologo|            2231|\n",
            "|                 NaN|             313|\n",
            "|        ensino medio|            9534|\n",
            "|              outros|            1601|\n",
            "|graduacao incompleta|           10589|\n",
            "+--------------------+----------------+\n",
            "\n"
          ]
        }
      ]
    },
    {
      "cell_type": "markdown",
      "source": [
        "* Quantidade a nivel mundo por tipo de emprego"
      ],
      "metadata": {
        "id": "TdJmqCJ3Bsdk"
      }
    },
    {
      "cell_type": "code",
      "source": [
        "spark.sql('SELECT  Emprego, COUNT(Emprego) AS Quantidade_total FROM tabela_projeto_final GROUP BY  Emprego').show()"
      ],
      "metadata": {
        "id": "9_CReF9qu056",
        "colab": {
          "base_uri": "https://localhost:8080/"
        },
        "outputId": "ade7a9b4-d655-4620-c479-77345f2c5f6f"
      },
      "execution_count": null,
      "outputs": [
        {
          "output_type": "stream",
          "name": "stdout",
          "text": [
            "+--------------------+----------------+\n",
            "|             Emprego|Quantidade_total|\n",
            "+--------------------+----------------+\n",
            "|prefiro não respo...|             890|\n",
            "|          aposentado|             326|\n",
            "|estudante tempo i...|           11781|\n",
            "|empregado tempo i...|           53584|\n",
            "|desempregado, pro...|            2961|\n",
            "|empregado tempo p...|            2461|\n",
            "|desempregado, não...|            1228|\n",
            "|                 NaN|             116|\n",
            "|estudante tempo p...|            2051|\n",
            "|contrato independ...|            8041|\n",
            "+--------------------+----------------+\n",
            "\n"
          ]
        }
      ]
    }
  ]
}
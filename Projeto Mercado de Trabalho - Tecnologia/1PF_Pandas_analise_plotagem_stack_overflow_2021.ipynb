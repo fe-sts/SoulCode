{
  "cells": [
    {
      "cell_type": "markdown",
      "metadata": {
        "id": "T8RKHWjWDXWh"
      },
      "source": [
        "# Instalações Iniciais"
      ]
    },
    {
      "cell_type": "code",
      "execution_count": null,
      "metadata": {
        "id": "TzPE7GEjAMMT",
        "colab": {
          "base_uri": "https://localhost:8080/"
        },
        "outputId": "c3bcd28d-8648-4813-c9f7-3dc9cfec4e67"
      },
      "outputs": [
        {
          "output_type": "stream",
          "name": "stdout",
          "text": [
            "Requirement already satisfied: gcsfs in /usr/local/lib/python3.7/dist-packages (2022.3.0)\n",
            "Requirement already satisfied: aiohttp<4 in /usr/local/lib/python3.7/dist-packages (from gcsfs) (3.8.1)\n",
            "Requirement already satisfied: requests in /usr/local/lib/python3.7/dist-packages (from gcsfs) (2.23.0)\n",
            "Requirement already satisfied: google-auth>=1.2 in /usr/local/lib/python3.7/dist-packages (from gcsfs) (1.35.0)\n",
            "Requirement already satisfied: google-cloud-storage in /usr/local/lib/python3.7/dist-packages (from gcsfs) (1.18.1)\n",
            "Requirement already satisfied: fsspec==2022.3.0 in /usr/local/lib/python3.7/dist-packages (from gcsfs) (2022.3.0)\n",
            "Requirement already satisfied: google-auth-oauthlib in /usr/local/lib/python3.7/dist-packages (from gcsfs) (0.4.6)\n",
            "Requirement already satisfied: decorator>4.1.2 in /usr/local/lib/python3.7/dist-packages (from gcsfs) (4.4.2)\n",
            "Requirement already satisfied: typing-extensions>=3.7.4 in /usr/local/lib/python3.7/dist-packages (from aiohttp<4->gcsfs) (3.10.0.2)\n",
            "Requirement already satisfied: yarl<2.0,>=1.0 in /usr/local/lib/python3.7/dist-packages (from aiohttp<4->gcsfs) (1.7.2)\n",
            "Requirement already satisfied: charset-normalizer<3.0,>=2.0 in /usr/local/lib/python3.7/dist-packages (from aiohttp<4->gcsfs) (2.0.12)\n",
            "Requirement already satisfied: attrs>=17.3.0 in /usr/local/lib/python3.7/dist-packages (from aiohttp<4->gcsfs) (21.4.0)\n",
            "Requirement already satisfied: frozenlist>=1.1.1 in /usr/local/lib/python3.7/dist-packages (from aiohttp<4->gcsfs) (1.3.0)\n",
            "Requirement already satisfied: multidict<7.0,>=4.5 in /usr/local/lib/python3.7/dist-packages (from aiohttp<4->gcsfs) (6.0.2)\n",
            "Requirement already satisfied: aiosignal>=1.1.2 in /usr/local/lib/python3.7/dist-packages (from aiohttp<4->gcsfs) (1.2.0)\n",
            "Requirement already satisfied: asynctest==0.13.0 in /usr/local/lib/python3.7/dist-packages (from aiohttp<4->gcsfs) (0.13.0)\n",
            "Requirement already satisfied: async-timeout<5.0,>=4.0.0a3 in /usr/local/lib/python3.7/dist-packages (from aiohttp<4->gcsfs) (4.0.2)\n",
            "Requirement already satisfied: cachetools<5.0,>=2.0.0 in /usr/local/lib/python3.7/dist-packages (from google-auth>=1.2->gcsfs) (4.2.4)\n",
            "Requirement already satisfied: setuptools>=40.3.0 in /usr/local/lib/python3.7/dist-packages (from google-auth>=1.2->gcsfs) (57.4.0)\n",
            "Requirement already satisfied: pyasn1-modules>=0.2.1 in /usr/local/lib/python3.7/dist-packages (from google-auth>=1.2->gcsfs) (0.2.8)\n",
            "Requirement already satisfied: rsa<5,>=3.1.4 in /usr/local/lib/python3.7/dist-packages (from google-auth>=1.2->gcsfs) (4.8)\n",
            "Requirement already satisfied: six>=1.9.0 in /usr/local/lib/python3.7/dist-packages (from google-auth>=1.2->gcsfs) (1.15.0)\n",
            "Requirement already satisfied: pyasn1<0.5.0,>=0.4.6 in /usr/local/lib/python3.7/dist-packages (from pyasn1-modules>=0.2.1->google-auth>=1.2->gcsfs) (0.4.8)\n",
            "Requirement already satisfied: idna>=2.0 in /usr/local/lib/python3.7/dist-packages (from yarl<2.0,>=1.0->aiohttp<4->gcsfs) (2.10)\n",
            "Requirement already satisfied: requests-oauthlib>=0.7.0 in /usr/local/lib/python3.7/dist-packages (from google-auth-oauthlib->gcsfs) (1.3.1)\n",
            "Requirement already satisfied: oauthlib>=3.0.0 in /usr/local/lib/python3.7/dist-packages (from requests-oauthlib>=0.7.0->google-auth-oauthlib->gcsfs) (3.2.0)\n",
            "Requirement already satisfied: chardet<4,>=3.0.2 in /usr/local/lib/python3.7/dist-packages (from requests->gcsfs) (3.0.4)\n",
            "Requirement already satisfied: urllib3!=1.25.0,!=1.25.1,<1.26,>=1.21.1 in /usr/local/lib/python3.7/dist-packages (from requests->gcsfs) (1.24.3)\n",
            "Requirement already satisfied: certifi>=2017.4.17 in /usr/local/lib/python3.7/dist-packages (from requests->gcsfs) (2021.10.8)\n",
            "Requirement already satisfied: google-cloud-core<2.0dev,>=1.0.0 in /usr/local/lib/python3.7/dist-packages (from google-cloud-storage->gcsfs) (1.0.3)\n",
            "Requirement already satisfied: google-resumable-media<0.5.0dev,>=0.3.1 in /usr/local/lib/python3.7/dist-packages (from google-cloud-storage->gcsfs) (0.4.1)\n",
            "Requirement already satisfied: google-api-core<2.0.0dev,>=1.14.0 in /usr/local/lib/python3.7/dist-packages (from google-cloud-core<2.0dev,>=1.0.0->google-cloud-storage->gcsfs) (1.26.3)\n",
            "Requirement already satisfied: protobuf>=3.12.0 in /usr/local/lib/python3.7/dist-packages (from google-api-core<2.0.0dev,>=1.14.0->google-cloud-core<2.0dev,>=1.0.0->google-cloud-storage->gcsfs) (3.17.3)\n",
            "Requirement already satisfied: pytz in /usr/local/lib/python3.7/dist-packages (from google-api-core<2.0.0dev,>=1.14.0->google-cloud-core<2.0dev,>=1.0.0->google-cloud-storage->gcsfs) (2018.9)\n",
            "Requirement already satisfied: googleapis-common-protos<2.0dev,>=1.6.0 in /usr/local/lib/python3.7/dist-packages (from google-api-core<2.0.0dev,>=1.14.0->google-cloud-core<2.0dev,>=1.0.0->google-cloud-storage->gcsfs) (1.56.0)\n",
            "Requirement already satisfied: packaging>=14.3 in /usr/local/lib/python3.7/dist-packages (from google-api-core<2.0.0dev,>=1.14.0->google-cloud-core<2.0dev,>=1.0.0->google-cloud-storage->gcsfs) (21.3)\n",
            "Requirement already satisfied: pyparsing!=3.0.5,>=2.0.2 in /usr/local/lib/python3.7/dist-packages (from packaging>=14.3->google-api-core<2.0.0dev,>=1.14.0->google-cloud-core<2.0dev,>=1.0.0->google-cloud-storage->gcsfs) (3.0.7)\n"
          ]
        }
      ],
      "source": [
        "!pip install gcsfs "
      ]
    },
    {
      "cell_type": "code",
      "execution_count": null,
      "metadata": {
        "id": "hib40pZqAVY8"
      },
      "outputs": [],
      "source": [
        "from google.colab import drive \n",
        "from google.cloud import storage\n",
        "import os"
      ]
    },
    {
      "cell_type": "code",
      "execution_count": null,
      "metadata": {
        "id": "GYz8AuYQDgsV",
        "colab": {
          "base_uri": "https://localhost:8080/"
        },
        "outputId": "1d6f9dcb-52eb-4590-80dd-7492fe511987"
      },
      "outputs": [
        {
          "output_type": "stream",
          "name": "stdout",
          "text": [
            "Requirement already satisfied: pandera in /usr/local/lib/python3.7/dist-packages (0.9.0)\n",
            "Requirement already satisfied: pyarrow in /usr/local/lib/python3.7/dist-packages (from pandera) (6.0.1)\n",
            "Requirement already satisfied: typing-extensions>=3.7.4.3 in /usr/local/lib/python3.7/dist-packages (from pandera) (3.10.0.2)\n",
            "Requirement already satisfied: pydantic in /usr/local/lib/python3.7/dist-packages (from pandera) (1.9.0)\n",
            "Requirement already satisfied: numpy>=1.9.0 in /usr/local/lib/python3.7/dist-packages (from pandera) (1.21.5)\n",
            "Requirement already satisfied: packaging>=20.0 in /usr/local/lib/python3.7/dist-packages (from pandera) (21.3)\n",
            "Requirement already satisfied: pandas>=1.0 in /usr/local/lib/python3.7/dist-packages (from pandera) (1.3.5)\n",
            "Requirement already satisfied: wrapt in /usr/local/lib/python3.7/dist-packages (from pandera) (1.14.0)\n",
            "Requirement already satisfied: typing-inspect>=0.6.0 in /usr/local/lib/python3.7/dist-packages (from pandera) (0.7.1)\n",
            "Requirement already satisfied: pyparsing!=3.0.5,>=2.0.2 in /usr/local/lib/python3.7/dist-packages (from packaging>=20.0->pandera) (3.0.7)\n",
            "Requirement already satisfied: python-dateutil>=2.7.3 in /usr/local/lib/python3.7/dist-packages (from pandas>=1.0->pandera) (2.8.2)\n",
            "Requirement already satisfied: pytz>=2017.3 in /usr/local/lib/python3.7/dist-packages (from pandas>=1.0->pandera) (2018.9)\n",
            "Requirement already satisfied: six>=1.5 in /usr/local/lib/python3.7/dist-packages (from python-dateutil>=2.7.3->pandas>=1.0->pandera) (1.15.0)\n",
            "Requirement already satisfied: mypy-extensions>=0.3.0 in /usr/local/lib/python3.7/dist-packages (from typing-inspect>=0.6.0->pandera) (0.4.3)\n"
          ]
        }
      ],
      "source": [
        "!pip install pandera"
      ]
    },
    {
      "cell_type": "code",
      "execution_count": null,
      "metadata": {
        "id": "7eJUtjCaDgsW"
      },
      "outputs": [],
      "source": [
        "import pandas as pd\n",
        "import pandera as pa\n",
        "import numpy as np\n",
        "import matplotlib.pyplot as plt\n",
        "import re   # para usar a flag 'ignorecase'"
      ]
    },
    {
      "cell_type": "markdown",
      "metadata": {
        "id": "Vwux9QJzih6e"
      },
      "source": [
        "#Análises e Plotagens em Pandas\n"
      ]
    },
    {
      "cell_type": "markdown",
      "metadata": {
        "id": "5H7y7t7x7rc5"
      },
      "source": [
        "Buscando Csv Tratado na GCP"
      ]
    },
    {
      "cell_type": "code",
      "execution_count": null,
      "metadata": {
        "id": "JO4M6ew_yUPm"
      },
      "outputs": [],
      "source": [
        "df = pd.read_csv('https://storage.googleapis.com/projeto-final/Data_Frame_tratado_Stack/projFinalStack.csv', sep =',')"
      ]
    },
    {
      "cell_type": "code",
      "execution_count": null,
      "metadata": {
        "id": "15WkFksQ1P2g"
      },
      "outputs": [],
      "source": [
        "pd.set_option('max_columns', None)"
      ]
    },
    {
      "cell_type": "code",
      "execution_count": null,
      "metadata": {
        "colab": {
          "base_uri": "https://localhost:8080/",
          "height": 196
        },
        "id": "Kt4AkXvc4ne_",
        "outputId": "cc3c0983-43a2-4bbc-a08f-aa2a040cfecb"
      },
      "outputs": [
        {
          "output_type": "execute_result",
          "data": {
            "text/plain": [
              "   Id                 AreaAtuacao  \\\n",
              "0   1  desenvolvedor profissional   \n",
              "\n",
              "                                         Emprego        Pais  Escolaridade  \\\n",
              "0  contrato independente, freelancer ou autonomo  Eslovaquia  ensino medio   \n",
              "\n",
              "   AnosProg  AnosProgProf                                     LingJaTrab  \\\n",
              "0       NaN           NaN  C++;HTML/CSS;JavaScript;Objective-C;PHP;Swift   \n",
              "\n",
              "            BDJaTrab CloudJaTrab     EstWebJaTrab OutrasJaTrab FerramJaTrab  \\\n",
              "0  PostgreSQL;SQLite         NaN  Laravel;Symfony          NaN          NaN   \n",
              "\n",
              "     AmbDevJaTrab     SO                Idade DefFis TipoDev Genero   Etnia  \n",
              "0  PHPStorm;Xcode  MacOS  25-34 anos de idade    nao   outro  Homem  branco  "
            ],
            "text/html": [
              "\n",
              "  <div id=\"df-9d02016f-ebeb-4a61-ab7b-b611f70e5217\">\n",
              "    <div class=\"colab-df-container\">\n",
              "      <div>\n",
              "<style scoped>\n",
              "    .dataframe tbody tr th:only-of-type {\n",
              "        vertical-align: middle;\n",
              "    }\n",
              "\n",
              "    .dataframe tbody tr th {\n",
              "        vertical-align: top;\n",
              "    }\n",
              "\n",
              "    .dataframe thead th {\n",
              "        text-align: right;\n",
              "    }\n",
              "</style>\n",
              "<table border=\"1\" class=\"dataframe\">\n",
              "  <thead>\n",
              "    <tr style=\"text-align: right;\">\n",
              "      <th></th>\n",
              "      <th>Id</th>\n",
              "      <th>AreaAtuacao</th>\n",
              "      <th>Emprego</th>\n",
              "      <th>Pais</th>\n",
              "      <th>Escolaridade</th>\n",
              "      <th>AnosProg</th>\n",
              "      <th>AnosProgProf</th>\n",
              "      <th>LingJaTrab</th>\n",
              "      <th>BDJaTrab</th>\n",
              "      <th>CloudJaTrab</th>\n",
              "      <th>EstWebJaTrab</th>\n",
              "      <th>OutrasJaTrab</th>\n",
              "      <th>FerramJaTrab</th>\n",
              "      <th>AmbDevJaTrab</th>\n",
              "      <th>SO</th>\n",
              "      <th>Idade</th>\n",
              "      <th>DefFis</th>\n",
              "      <th>TipoDev</th>\n",
              "      <th>Genero</th>\n",
              "      <th>Etnia</th>\n",
              "    </tr>\n",
              "  </thead>\n",
              "  <tbody>\n",
              "    <tr>\n",
              "      <th>0</th>\n",
              "      <td>1</td>\n",
              "      <td>desenvolvedor profissional</td>\n",
              "      <td>contrato independente, freelancer ou autonomo</td>\n",
              "      <td>Eslovaquia</td>\n",
              "      <td>ensino medio</td>\n",
              "      <td>NaN</td>\n",
              "      <td>NaN</td>\n",
              "      <td>C++;HTML/CSS;JavaScript;Objective-C;PHP;Swift</td>\n",
              "      <td>PostgreSQL;SQLite</td>\n",
              "      <td>NaN</td>\n",
              "      <td>Laravel;Symfony</td>\n",
              "      <td>NaN</td>\n",
              "      <td>NaN</td>\n",
              "      <td>PHPStorm;Xcode</td>\n",
              "      <td>MacOS</td>\n",
              "      <td>25-34 anos de idade</td>\n",
              "      <td>nao</td>\n",
              "      <td>outro</td>\n",
              "      <td>Homem</td>\n",
              "      <td>branco</td>\n",
              "    </tr>\n",
              "  </tbody>\n",
              "</table>\n",
              "</div>\n",
              "      <button class=\"colab-df-convert\" onclick=\"convertToInteractive('df-9d02016f-ebeb-4a61-ab7b-b611f70e5217')\"\n",
              "              title=\"Convert this dataframe to an interactive table.\"\n",
              "              style=\"display:none;\">\n",
              "        \n",
              "  <svg xmlns=\"http://www.w3.org/2000/svg\" height=\"24px\"viewBox=\"0 0 24 24\"\n",
              "       width=\"24px\">\n",
              "    <path d=\"M0 0h24v24H0V0z\" fill=\"none\"/>\n",
              "    <path d=\"M18.56 5.44l.94 2.06.94-2.06 2.06-.94-2.06-.94-.94-2.06-.94 2.06-2.06.94zm-11 1L8.5 8.5l.94-2.06 2.06-.94-2.06-.94L8.5 2.5l-.94 2.06-2.06.94zm10 10l.94 2.06.94-2.06 2.06-.94-2.06-.94-.94-2.06-.94 2.06-2.06.94z\"/><path d=\"M17.41 7.96l-1.37-1.37c-.4-.4-.92-.59-1.43-.59-.52 0-1.04.2-1.43.59L10.3 9.45l-7.72 7.72c-.78.78-.78 2.05 0 2.83L4 21.41c.39.39.9.59 1.41.59.51 0 1.02-.2 1.41-.59l7.78-7.78 2.81-2.81c.8-.78.8-2.07 0-2.86zM5.41 20L4 18.59l7.72-7.72 1.47 1.35L5.41 20z\"/>\n",
              "  </svg>\n",
              "      </button>\n",
              "      \n",
              "  <style>\n",
              "    .colab-df-container {\n",
              "      display:flex;\n",
              "      flex-wrap:wrap;\n",
              "      gap: 12px;\n",
              "    }\n",
              "\n",
              "    .colab-df-convert {\n",
              "      background-color: #E8F0FE;\n",
              "      border: none;\n",
              "      border-radius: 50%;\n",
              "      cursor: pointer;\n",
              "      display: none;\n",
              "      fill: #1967D2;\n",
              "      height: 32px;\n",
              "      padding: 0 0 0 0;\n",
              "      width: 32px;\n",
              "    }\n",
              "\n",
              "    .colab-df-convert:hover {\n",
              "      background-color: #E2EBFA;\n",
              "      box-shadow: 0px 1px 2px rgba(60, 64, 67, 0.3), 0px 1px 3px 1px rgba(60, 64, 67, 0.15);\n",
              "      fill: #174EA6;\n",
              "    }\n",
              "\n",
              "    [theme=dark] .colab-df-convert {\n",
              "      background-color: #3B4455;\n",
              "      fill: #D2E3FC;\n",
              "    }\n",
              "\n",
              "    [theme=dark] .colab-df-convert:hover {\n",
              "      background-color: #434B5C;\n",
              "      box-shadow: 0px 1px 3px 1px rgba(0, 0, 0, 0.15);\n",
              "      filter: drop-shadow(0px 1px 2px rgba(0, 0, 0, 0.3));\n",
              "      fill: #FFFFFF;\n",
              "    }\n",
              "  </style>\n",
              "\n",
              "      <script>\n",
              "        const buttonEl =\n",
              "          document.querySelector('#df-9d02016f-ebeb-4a61-ab7b-b611f70e5217 button.colab-df-convert');\n",
              "        buttonEl.style.display =\n",
              "          google.colab.kernel.accessAllowed ? 'block' : 'none';\n",
              "\n",
              "        async function convertToInteractive(key) {\n",
              "          const element = document.querySelector('#df-9d02016f-ebeb-4a61-ab7b-b611f70e5217');\n",
              "          const dataTable =\n",
              "            await google.colab.kernel.invokeFunction('convertToInteractive',\n",
              "                                                     [key], {});\n",
              "          if (!dataTable) return;\n",
              "\n",
              "          const docLinkHtml = 'Like what you see? Visit the ' +\n",
              "            '<a target=\"_blank\" href=https://colab.research.google.com/notebooks/data_table.ipynb>data table notebook</a>'\n",
              "            + ' to learn more about interactive tables.';\n",
              "          element.innerHTML = '';\n",
              "          dataTable['output_type'] = 'display_data';\n",
              "          await google.colab.output.renderOutput(dataTable, element);\n",
              "          const docLink = document.createElement('div');\n",
              "          docLink.innerHTML = docLinkHtml;\n",
              "          element.appendChild(docLink);\n",
              "        }\n",
              "      </script>\n",
              "    </div>\n",
              "  </div>\n",
              "  "
            ]
          },
          "metadata": {},
          "execution_count": 23
        }
      ],
      "source": [
        "df.head(1)"
      ]
    },
    {
      "cell_type": "code",
      "execution_count": null,
      "metadata": {
        "id": "ftQpJClj7InH",
        "outputId": "852f0af1-5c8a-4e37-f1b8-a4b8ebd9c1ba",
        "colab": {
          "base_uri": "https://localhost:8080/"
        }
      },
      "outputs": [
        {
          "output_type": "execute_result",
          "data": {
            "text/plain": [
              "Id                int64\n",
              "AreaAtuacao      object\n",
              "Emprego          object\n",
              "Pais             object\n",
              "Escolaridade     object\n",
              "AnosProg        float64\n",
              "AnosProgProf    float64\n",
              "LingJaTrab       object\n",
              "BDJaTrab         object\n",
              "CloudJaTrab      object\n",
              "EstWebJaTrab     object\n",
              "OutrasJaTrab     object\n",
              "FerramJaTrab     object\n",
              "AmbDevJaTrab     object\n",
              "SO               object\n",
              "Idade            object\n",
              "Genero           object\n",
              "DefFis           object\n",
              "TipoDev          object\n",
              "Etnia            object\n",
              "dtype: object"
            ]
          },
          "metadata": {},
          "execution_count": 9
        }
      ],
      "source": [
        "#tipo d elementos no DataFrame\n",
        "df.dtypes"
      ]
    },
    {
      "cell_type": "markdown",
      "metadata": {
        "id": "8ztQW6-OUFrC"
      },
      "source": [
        "Criação da variável df_plot_tipodev para plotagem posterior"
      ]
    },
    {
      "cell_type": "code",
      "execution_count": null,
      "metadata": {
        "id": "hDuhjD47i9jU"
      },
      "outputs": [],
      "source": [
        "df_plot_tipodev = df['TipoDev'].value_counts()"
      ]
    },
    {
      "cell_type": "code",
      "execution_count": null,
      "metadata": {
        "id": "p9e5WGi6KWYv",
        "outputId": "f6fa7805-77c4-4c15-ab53-0954f45b7dde",
        "colab": {
          "base_uri": "https://localhost:8080/"
        }
      },
      "outputs": [
        {
          "output_type": "execute_result",
          "data": {
            "text/plain": [
              "fullstack             26550\n",
              "cientista de dados    13010\n",
              "outro                 12200\n",
              "backend               10726\n",
              "frontend               3998\n",
              "Name: TipoDev, dtype: int64"
            ]
          },
          "metadata": {},
          "execution_count": 25
        }
      ],
      "source": [
        "df_plot_tipodev"
      ]
    },
    {
      "cell_type": "markdown",
      "metadata": {
        "id": "jALp_Qg0UQBV"
      },
      "source": [
        "Países"
      ]
    },
    {
      "cell_type": "code",
      "execution_count": null,
      "metadata": {
        "id": "GNXKebLRLTDX",
        "outputId": "2c688fba-686c-4b15-bb44-bb0514572e04",
        "colab": {
          "base_uri": "https://localhost:8080/"
        }
      },
      "outputs": [
        {
          "output_type": "execute_result",
          "data": {
            "text/plain": [
              "array(['Eslovaquia', 'Holanda', 'Federacao Russa', 'Austria',\n",
              "       'Reino Unido', 'Estados Unidos da America', 'Malasia', 'India',\n",
              "       'Suecia', 'Espanha', 'Alemanha', 'Peru', 'Canada', 'Cingapura',\n",
              "       'Brasil', 'Franca', 'Suica', 'Malawi', 'Israel', 'Polonia',\n",
              "       'Ucrania', 'Vietna', 'Portugal', 'Italia', 'Bulgaria', 'Grecia',\n",
              "       'Iran, Islamic Republic of...', 'Irlanda', 'Georgia',\n",
              "       'Uzbequistao', 'Hungria', 'Belgica', 'Paquistao', 'Nigeria',\n",
              "       'Albania', 'Bangladesh', 'Romenia', 'Sri Lanka', 'Lituania',\n",
              "       'Eslovenia', 'Croacia', 'Republica Checa', 'Dinamarca', 'Armenia',\n",
              "       'Libano', 'Bahrein', 'Egito', 'Nepal', 'Colombia', 'Indonesia',\n",
              "       'Australia', 'Turcomenistao', 'Marrocos', 'Chile', 'Servia',\n",
              "       'Nova Zelandia', 'Estonia', 'Tunisia', 'Finlandia',\n",
              "       'Hong Kong (S.A.R.)', 'Emirados Arabes Unidos', 'Argentina',\n",
              "       'Azerbaijao', 'Filipinas', 'Costa Rica', 'Africa do Sul', 'Kosovo',\n",
              "       'Japao', 'Republica Unida da Tanzania', 'Bolivia',\n",
              "       'Bosnia e Herzegovina', 'Uruguai', 'Coreia do Sul', 'China',\n",
              "       'Noruega', 'Bielorrussia', 'Luxemburgo', 'Malta', 'Etiopia',\n",
              "       'Madagascar', 'Quenia',\n",
              "       'A antiga Republica Iugoslava da Macedonia', 'Botsuana', 'Argelia',\n",
              "       'Senegal', 'Mexico', 'Chipre',\n",
              "       'Venezuela, Bolivarian Republic of...', 'Camaroes', 'Jordania',\n",
              "       'Republica Dominicana', 'Equador', 'Republica Arabe da Siria',\n",
              "       'Zambia', 'Taiwan', 'Nomade', 'Letonia', 'Guatemala', 'Paraguai',\n",
              "       'Islandia', 'Haiti', 'Republica da Moldavia', 'Cazaquistao',\n",
              "       'Jamahiriya Arabe Libia', 'Afeganistao', 'Panama',\n",
              "       'Costa do Marfim', 'Cuba', 'Mianmar', 'Tajiquistao',\n",
              "       'Republica Democratica Popular do Laos', 'Iemen', 'Tailandia',\n",
              "       'Catar', 'Republica Democratica do Congo', 'Iraque', 'Mocambique',\n",
              "       'Somalia', 'Andorra', 'Quirguistao', 'Kuwait', 'Arabia Saudita',\n",
              "       'Mauritania', 'Honduras', 'Angola', 'Oma', 'Suazilandia', 'Sudao',\n",
              "       'Guiana', 'Chade', 'El Salvador', 'Benim', 'Coreia do Norte',\n",
              "       'Nicaragua', 'Dominica', 'Trindade e Tobago', 'Gana', 'Barbados',\n",
              "       'Burundi', 'Micronesia, Estados Federados da', 'Zimbabue',\n",
              "       'Mauricio', 'Gambia', 'Bahamas', 'Congo, Republic of the...',\n",
              "       'Suriname', 'Djibuti', 'Republica da Coreia', 'Butao', 'Camboja',\n",
              "       'Uganda', 'Ruanda', 'Montenegro', 'Maldivas',\n",
              "       'Sao Cristovao e Nevis', 'Monaco', 'Togo', 'Ilha de Man',\n",
              "       'Jamaica', 'Belize', 'Palestina', 'Mongolia', 'Burkina Faso',\n",
              "       'Listenstaine', 'Santa Lucia', 'Cabo Verde', 'Brunei Darussalam',\n",
              "       'Namibia', 'Republica Centro Africana', 'Lesoto', 'Guine',\n",
              "       'Liberia', 'Fiji', 'Niger', 'Serra Leoa', 'Sao Marinho',\n",
              "       'Sao Vicente e Granadinas', 'Tuvalu', 'Papua Nova Guine', 'Mali'],\n",
              "      dtype=object)"
            ]
          },
          "metadata": {},
          "execution_count": 9
        }
      ],
      "source": [
        "df['Pais'].unique()"
      ]
    },
    {
      "cell_type": "markdown",
      "metadata": {
        "id": "hsNyCn5SUWiy"
      },
      "source": [
        "Número de países"
      ]
    },
    {
      "cell_type": "code",
      "execution_count": null,
      "metadata": {
        "id": "1H1Yi9l1LcuE",
        "outputId": "e7e941d4-f08d-4e2f-ec1b-b1a6ffdd2f38",
        "colab": {
          "base_uri": "https://localhost:8080/"
        }
      },
      "outputs": [
        {
          "output_type": "execute_result",
          "data": {
            "text/plain": [
              "180"
            ]
          },
          "metadata": {},
          "execution_count": 26
        }
      ],
      "source": [
        "len(df['Pais'].unique())\n",
        "\n",
        "# 180 países"
      ]
    },
    {
      "cell_type": "markdown",
      "metadata": {
        "id": "R95KD_jzUc1O"
      },
      "source": [
        "Número de brasileiros"
      ]
    },
    {
      "cell_type": "code",
      "execution_count": null,
      "metadata": {
        "id": "FHiqWU2-LkQX",
        "outputId": "f005276f-68a7-4eb6-8421-9191abb72887",
        "colab": {
          "base_uri": "https://localhost:8080/"
        }
      },
      "outputs": [
        {
          "output_type": "execute_result",
          "data": {
            "text/plain": [
              "2254"
            ]
          },
          "metadata": {},
          "execution_count": 27
        }
      ],
      "source": [
        "df['Pais'].value_counts()['Brasil']\n",
        "\n",
        "# 2254 brasileiros"
      ]
    },
    {
      "cell_type": "markdown",
      "metadata": {
        "id": "DV-QVwQaUhrR"
      },
      "source": [
        "Percentual de brasileiros"
      ]
    },
    {
      "cell_type": "code",
      "execution_count": null,
      "metadata": {
        "id": "WZ_AsALfLs0O",
        "outputId": "61256d30-ffa3-48da-a3a2-1a521039108d",
        "colab": {
          "base_uri": "https://localhost:8080/"
        }
      },
      "outputs": [
        {
          "output_type": "stream",
          "name": "stdout",
          "text": [
            "0.027013746569350065\n"
          ]
        }
      ],
      "source": [
        "print(df['Pais'].value_counts(normalize=True)['Brasil'])\n",
        "\n",
        "# 2,7% de brasileiros"
      ]
    },
    {
      "cell_type": "markdown",
      "metadata": {
        "id": "StBxPvq6Uq4N"
      },
      "source": [
        "Homens e mulheres"
      ]
    },
    {
      "cell_type": "code",
      "execution_count": null,
      "metadata": {
        "id": "qrcj7XezMAGP",
        "outputId": "57817e0d-3d30-4895-b03a-b34bd1ff0d74",
        "colab": {
          "base_uri": "https://localhost:8080/"
        }
      },
      "outputs": [
        {
          "output_type": "execute_result",
          "data": {
            "text/plain": [
              "array(['Homem', 'outro', 'Mulher', nan], dtype=object)"
            ]
          },
          "metadata": {},
          "execution_count": 29
        }
      ],
      "source": [
        "df['Genero'].unique()"
      ]
    },
    {
      "cell_type": "markdown",
      "metadata": {
        "id": "qkkQr78PUzGL"
      },
      "source": [
        "Percentual de homens e mulheres"
      ]
    },
    {
      "cell_type": "code",
      "execution_count": null,
      "metadata": {
        "id": "5Ft502KXMLL-",
        "colab": {
          "base_uri": "https://localhost:8080/"
        },
        "outputId": "6c62b2f1-baed-4b10-9df9-f11540755068"
      },
      "outputs": [
        {
          "output_type": "stream",
          "name": "stdout",
          "text": [
            "94.51580531861515\n",
            "5.4841946813848494\n"
          ]
        }
      ],
      "source": [
        "numHomens = len(df[df['Genero'].str.contains('Homem', na = False)])\n",
        "numMulheres = len(df[df['Genero'].str.contains('Mulher', na = False)])\n",
        "\n",
        "pctHomens = numHomens / (numHomens + numMulheres) * 100\n",
        "pctMulheres = 100 - pctHomens\n",
        "\n",
        "print(pctHomens)\n",
        "print(pctMulheres)\n"
      ]
    },
    {
      "cell_type": "markdown",
      "metadata": {
        "id": "SafUrbDiSjYe"
      },
      "source": [
        "Criação da variável df_plot_genero para plotagem posterior"
      ]
    },
    {
      "cell_type": "code",
      "execution_count": null,
      "metadata": {
        "id": "UEDspXu5PiIz"
      },
      "outputs": [],
      "source": [
        "df_plot_genero = df['Genero'].value_counts()"
      ]
    },
    {
      "cell_type": "markdown",
      "metadata": {
        "id": "16wI7tVESigk"
      },
      "source": [
        "Coluna acessibilidade"
      ]
    },
    {
      "cell_type": "code",
      "execution_count": null,
      "metadata": {
        "id": "hQkEtF71SbDl",
        "outputId": "27a66974-c5e3-4b4d-8039-0e5ef5afe7ba",
        "colab": {
          "base_uri": "https://localhost:8080/"
        }
      },
      "outputs": [
        {
          "output_type": "execute_result",
          "data": {
            "text/plain": [
              "array(['nao', 'sim', nan, 'prefiro nao dizer', 'outros'], dtype=object)"
            ]
          },
          "metadata": {},
          "execution_count": 32
        }
      ],
      "source": [
        "df['DefFis'].unique()"
      ]
    },
    {
      "cell_type": "code",
      "execution_count": null,
      "metadata": {
        "id": "lOCJT_ZwSlVi",
        "outputId": "d754eb97-4ec9-4f98-c729-3684a0b893b7",
        "colab": {
          "base_uri": "https://localhost:8080/"
        }
      },
      "outputs": [
        {
          "output_type": "stream",
          "name": "stderr",
          "text": [
            "/usr/local/lib/python3.7/dist-packages/ipykernel_launcher.py:3: SettingWithCopyWarning: \n",
            "A value is trying to be set on a copy of a slice from a DataFrame\n",
            "\n",
            "See the caveats in the documentation: https://pandas.pydata.org/pandas-docs/stable/user_guide/indexing.html#returning-a-view-versus-a-copy\n",
            "  This is separate from the ipykernel package so we can avoid doing imports until\n"
          ]
        }
      ],
      "source": [
        "df['DefFis'].unique()\n",
        "df_deficientes = df.query(\"DefFis != 'outros'\")\n",
        "df_deficientes.query(\"DefFis != 'prefiro nao dizer'\",inplace=True)\n",
        "df_deficientes = df_deficientes[df_deficientes['DefFis'].notna()]"
      ]
    },
    {
      "cell_type": "markdown",
      "metadata": {
        "id": "7tPYJWHPTIQ1"
      },
      "source": [
        "Percentual de deficientes"
      ]
    },
    {
      "cell_type": "code",
      "execution_count": null,
      "metadata": {
        "id": "8iDthJPGTJMr",
        "outputId": "3120104b-6424-4768-b91c-c120f4cfc146",
        "colab": {
          "base_uri": "https://localhost:8080/"
        }
      },
      "outputs": [
        {
          "output_type": "execute_result",
          "data": {
            "text/plain": [
              "89.69786310957706"
            ]
          },
          "metadata": {},
          "execution_count": 34
        }
      ],
      "source": [
        "len(df_deficientes) / len(df) * 100"
      ]
    },
    {
      "cell_type": "markdown",
      "metadata": {
        "id": "Z-IIn_3RTTJC"
      },
      "source": [
        "Etnia"
      ]
    },
    {
      "cell_type": "code",
      "execution_count": null,
      "metadata": {
        "id": "uh8-52iyTSo8",
        "outputId": "989b966e-a2a5-4448-a8ad-decb0562cc20",
        "colab": {
          "base_uri": "https://localhost:8080/"
        }
      },
      "outputs": [
        {
          "output_type": "execute_result",
          "data": {
            "text/plain": [
              "array(['branco', 'prefere nao dizer', 'nao sabe', 'nao branco', nan],\n",
              "      dtype=object)"
            ]
          },
          "metadata": {},
          "execution_count": 35
        }
      ],
      "source": [
        "df[\"Etnia\"].unique()"
      ]
    },
    {
      "cell_type": "markdown",
      "metadata": {
        "id": "Pui2PFStZezq"
      },
      "source": [
        "Criação da variável df_plot_etnia para plotagem posterior"
      ]
    },
    {
      "cell_type": "code",
      "source": [
        "df_plot_etnia = df.value_counts()"
      ],
      "metadata": {
        "id": "m7uvwM-A4bgI"
      },
      "execution_count": null,
      "outputs": []
    },
    {
      "cell_type": "code",
      "execution_count": null,
      "metadata": {
        "id": "BqYWVu7yTfXR",
        "outputId": "061e8120-a199-4f2b-d530-4119a894d79d",
        "colab": {
          "base_uri": "https://localhost:8080/"
        }
      },
      "outputs": [
        {
          "output_type": "stream",
          "name": "stdout",
          "text": [
            "93.10882915534079\n",
            "6.891170844659214\n"
          ]
        }
      ],
      "source": [
        "df_etnia = df\n",
        "df_etnia = df_etnia[df_etnia['Etnia'].notna()]\n",
        "\n",
        "numBrancos = len(df[df['Etnia'].str.contains('branco', na = False)])\n",
        "\n",
        "pctBrancos = numBrancos / len(df_etnia) * 100\n",
        "pctNaoBrancos = 100 - pctBrancos\n",
        "print(pctBrancos)\n",
        "print(pctNaoBrancos)"
      ]
    },
    {
      "cell_type": "markdown",
      "metadata": {
        "id": "3zGy3LpkTv_C"
      },
      "source": [
        "Plataformas de nuvem"
      ]
    },
    {
      "cell_type": "code",
      "execution_count": null,
      "metadata": {
        "id": "0Cmqu2bLVZgG",
        "outputId": "42b7f466-c93e-48f4-b7f0-04691b20e59c",
        "colab": {
          "base_uri": "https://localhost:8080/"
        }
      },
      "outputs": [
        {
          "output_type": "stream",
          "name": "stdout",
          "text": [
            "AWS                                              11454\n",
            "Microsoft Azure                                   6660\n",
            "Google Cloud Platform                             4654\n",
            "Heroku                                            3865\n",
            "AWS;Google Cloud Platform                         3116\n",
            "AWS;Microsoft Azure                               2929\n",
            "AWS;Heroku                                        2289\n",
            "DigitalOcean                                      1931\n",
            "AWS;DigitalOcean                                  1670\n",
            "AWS;Google Cloud Platform;Microsoft Azure         1391\n",
            "Google Cloud Platform;Microsoft Azure             1098\n",
            "AWS;Google Cloud Platform;Heroku                   944\n",
            "Google Cloud Platform;Heroku                       897\n",
            "AWS;DigitalOcean;Google Cloud Platform             820\n",
            "AWS;DigitalOcean;Heroku                            734\n",
            "Heroku;Microsoft Azure                             577\n",
            "DigitalOcean;Heroku                                557\n",
            "AWS;DigitalOcean;Google Cloud Platform;Heroku      552\n",
            "DigitalOcean;Google Cloud Platform                 540\n",
            "AWS;Heroku;Microsoft Azure                         458\n",
            "Name: CloudJaTrab, dtype: int64\n"
          ]
        }
      ],
      "source": [
        "pd.set_option(\"display.max_rows\", None)\n",
        "print(df['CloudJaTrab'].value_counts().head(20))"
      ]
    },
    {
      "cell_type": "code",
      "execution_count": null,
      "metadata": {
        "id": "RLZ8h642VaDz",
        "outputId": "0897b720-e208-4751-dc1e-103647d7a5ca",
        "colab": {
          "base_uri": "https://localhost:8080/",
          "height": 197
        }
      },
      "outputs": [
        {
          "output_type": "execute_result",
          "data": {
            "text/plain": [
              "   Id                 AreaAtuacao  \\\n",
              "0   1  desenvolvedor profissional   \n",
              "\n",
              "                                         Emprego        Pais  Escolaridade  \\\n",
              "0  contrato independente, freelancer ou autonomo  Eslovaquia  ensino medio   \n",
              "\n",
              "   AnosProg  AnosProgProf                                     LingJaTrab  \\\n",
              "0       NaN           NaN  C++;HTML/CSS;JavaScript;Objective-C;PHP;Swift   \n",
              "\n",
              "            BDJaTrab CloudJaTrab     EstWebJaTrab OutrasJaTrab FerramJaTrab  \\\n",
              "0  PostgreSQL;SQLite         NaN  Laravel;Symfony          NaN          NaN   \n",
              "\n",
              "     AmbDevJaTrab     SO                Idade Genero DefFis TipoDev   Etnia  \n",
              "0  PHPStorm;Xcode  MacOS  25-34 anos de idade    Man    nao   outro  branco  "
            ],
            "text/html": [
              "\n",
              "  <div id=\"df-9291e212-edce-4e2e-a23d-32541c1c7e02\">\n",
              "    <div class=\"colab-df-container\">\n",
              "      <div>\n",
              "<style scoped>\n",
              "    .dataframe tbody tr th:only-of-type {\n",
              "        vertical-align: middle;\n",
              "    }\n",
              "\n",
              "    .dataframe tbody tr th {\n",
              "        vertical-align: top;\n",
              "    }\n",
              "\n",
              "    .dataframe thead th {\n",
              "        text-align: right;\n",
              "    }\n",
              "</style>\n",
              "<table border=\"1\" class=\"dataframe\">\n",
              "  <thead>\n",
              "    <tr style=\"text-align: right;\">\n",
              "      <th></th>\n",
              "      <th>Id</th>\n",
              "      <th>AreaAtuacao</th>\n",
              "      <th>Emprego</th>\n",
              "      <th>Pais</th>\n",
              "      <th>Escolaridade</th>\n",
              "      <th>AnosProg</th>\n",
              "      <th>AnosProgProf</th>\n",
              "      <th>LingJaTrab</th>\n",
              "      <th>BDJaTrab</th>\n",
              "      <th>CloudJaTrab</th>\n",
              "      <th>EstWebJaTrab</th>\n",
              "      <th>OutrasJaTrab</th>\n",
              "      <th>FerramJaTrab</th>\n",
              "      <th>AmbDevJaTrab</th>\n",
              "      <th>SO</th>\n",
              "      <th>Idade</th>\n",
              "      <th>Genero</th>\n",
              "      <th>DefFis</th>\n",
              "      <th>TipoDev</th>\n",
              "      <th>Etnia</th>\n",
              "    </tr>\n",
              "  </thead>\n",
              "  <tbody>\n",
              "    <tr>\n",
              "      <th>0</th>\n",
              "      <td>1</td>\n",
              "      <td>desenvolvedor profissional</td>\n",
              "      <td>contrato independente, freelancer ou autonomo</td>\n",
              "      <td>Eslovaquia</td>\n",
              "      <td>ensino medio</td>\n",
              "      <td>NaN</td>\n",
              "      <td>NaN</td>\n",
              "      <td>C++;HTML/CSS;JavaScript;Objective-C;PHP;Swift</td>\n",
              "      <td>PostgreSQL;SQLite</td>\n",
              "      <td>NaN</td>\n",
              "      <td>Laravel;Symfony</td>\n",
              "      <td>NaN</td>\n",
              "      <td>NaN</td>\n",
              "      <td>PHPStorm;Xcode</td>\n",
              "      <td>MacOS</td>\n",
              "      <td>25-34 anos de idade</td>\n",
              "      <td>Man</td>\n",
              "      <td>nao</td>\n",
              "      <td>outro</td>\n",
              "      <td>branco</td>\n",
              "    </tr>\n",
              "  </tbody>\n",
              "</table>\n",
              "</div>\n",
              "      <button class=\"colab-df-convert\" onclick=\"convertToInteractive('df-9291e212-edce-4e2e-a23d-32541c1c7e02')\"\n",
              "              title=\"Convert this dataframe to an interactive table.\"\n",
              "              style=\"display:none;\">\n",
              "        \n",
              "  <svg xmlns=\"http://www.w3.org/2000/svg\" height=\"24px\"viewBox=\"0 0 24 24\"\n",
              "       width=\"24px\">\n",
              "    <path d=\"M0 0h24v24H0V0z\" fill=\"none\"/>\n",
              "    <path d=\"M18.56 5.44l.94 2.06.94-2.06 2.06-.94-2.06-.94-.94-2.06-.94 2.06-2.06.94zm-11 1L8.5 8.5l.94-2.06 2.06-.94-2.06-.94L8.5 2.5l-.94 2.06-2.06.94zm10 10l.94 2.06.94-2.06 2.06-.94-2.06-.94-.94-2.06-.94 2.06-2.06.94z\"/><path d=\"M17.41 7.96l-1.37-1.37c-.4-.4-.92-.59-1.43-.59-.52 0-1.04.2-1.43.59L10.3 9.45l-7.72 7.72c-.78.78-.78 2.05 0 2.83L4 21.41c.39.39.9.59 1.41.59.51 0 1.02-.2 1.41-.59l7.78-7.78 2.81-2.81c.8-.78.8-2.07 0-2.86zM5.41 20L4 18.59l7.72-7.72 1.47 1.35L5.41 20z\"/>\n",
              "  </svg>\n",
              "      </button>\n",
              "      \n",
              "  <style>\n",
              "    .colab-df-container {\n",
              "      display:flex;\n",
              "      flex-wrap:wrap;\n",
              "      gap: 12px;\n",
              "    }\n",
              "\n",
              "    .colab-df-convert {\n",
              "      background-color: #E8F0FE;\n",
              "      border: none;\n",
              "      border-radius: 50%;\n",
              "      cursor: pointer;\n",
              "      display: none;\n",
              "      fill: #1967D2;\n",
              "      height: 32px;\n",
              "      padding: 0 0 0 0;\n",
              "      width: 32px;\n",
              "    }\n",
              "\n",
              "    .colab-df-convert:hover {\n",
              "      background-color: #E2EBFA;\n",
              "      box-shadow: 0px 1px 2px rgba(60, 64, 67, 0.3), 0px 1px 3px 1px rgba(60, 64, 67, 0.15);\n",
              "      fill: #174EA6;\n",
              "    }\n",
              "\n",
              "    [theme=dark] .colab-df-convert {\n",
              "      background-color: #3B4455;\n",
              "      fill: #D2E3FC;\n",
              "    }\n",
              "\n",
              "    [theme=dark] .colab-df-convert:hover {\n",
              "      background-color: #434B5C;\n",
              "      box-shadow: 0px 1px 3px 1px rgba(0, 0, 0, 0.15);\n",
              "      filter: drop-shadow(0px 1px 2px rgba(0, 0, 0, 0.3));\n",
              "      fill: #FFFFFF;\n",
              "    }\n",
              "  </style>\n",
              "\n",
              "      <script>\n",
              "        const buttonEl =\n",
              "          document.querySelector('#df-9291e212-edce-4e2e-a23d-32541c1c7e02 button.colab-df-convert');\n",
              "        buttonEl.style.display =\n",
              "          google.colab.kernel.accessAllowed ? 'block' : 'none';\n",
              "\n",
              "        async function convertToInteractive(key) {\n",
              "          const element = document.querySelector('#df-9291e212-edce-4e2e-a23d-32541c1c7e02');\n",
              "          const dataTable =\n",
              "            await google.colab.kernel.invokeFunction('convertToInteractive',\n",
              "                                                     [key], {});\n",
              "          if (!dataTable) return;\n",
              "\n",
              "          const docLinkHtml = 'Like what you see? Visit the ' +\n",
              "            '<a target=\"_blank\" href=https://colab.research.google.com/notebooks/data_table.ipynb>data table notebook</a>'\n",
              "            + ' to learn more about interactive tables.';\n",
              "          element.innerHTML = '';\n",
              "          dataTable['output_type'] = 'display_data';\n",
              "          await google.colab.output.renderOutput(dataTable, element);\n",
              "          const docLink = document.createElement('div');\n",
              "          docLink.innerHTML = docLinkHtml;\n",
              "          element.appendChild(docLink);\n",
              "        }\n",
              "      </script>\n",
              "    </div>\n",
              "  </div>\n",
              "  "
            ]
          },
          "metadata": {},
          "execution_count": 27
        }
      ],
      "source": [
        "df.head(1)"
      ]
    },
    {
      "cell_type": "markdown",
      "metadata": {
        "id": "eVa6Z3aTVsjS"
      },
      "source": [
        "Bancos de dados"
      ]
    },
    {
      "cell_type": "code",
      "execution_count": null,
      "metadata": {
        "id": "Ftfv9jYsWJzj",
        "outputId": "91d5cb44-42ea-4795-d659-548061df6a61",
        "colab": {
          "base_uri": "https://localhost:8080/"
        }
      },
      "outputs": [
        {
          "output_type": "stream",
          "name": "stdout",
          "text": [
            "MySQL                              4777\n",
            "Microsoft SQL Server               3823\n",
            "PostgreSQL                         3537\n",
            "SQLite                             2191\n",
            "MongoDB                            1656\n",
            "MySQL;SQLite                       1450\n",
            "Firebase                           1208\n",
            "PostgreSQL;SQLite                  1194\n",
            "MySQL;PostgreSQL                   1190\n",
            "MariaDB;MySQL                      1183\n",
            "MongoDB;MySQL                      1116\n",
            "Microsoft SQL Server;MySQL         1045\n",
            "PostgreSQL;Redis                    969\n",
            "Oracle                              862\n",
            "MySQL;PostgreSQL;SQLite             727\n",
            "MongoDB;PostgreSQL                  715\n",
            "Microsoft SQL Server;SQLite         707\n",
            "Firebase;MySQL                      569\n",
            "Microsoft SQL Server;PostgreSQL     556\n",
            "Firebase;MongoDB                    512\n",
            "Name: BDJaTrab, dtype: int64\n"
          ]
        }
      ],
      "source": [
        "pd.set_option(\"display.max_rows\", None)\n",
        "print(df['BDJaTrab'].value_counts().head(20))"
      ]
    },
    {
      "cell_type": "markdown",
      "metadata": {
        "id": "tcYcMdXHWdHM"
      },
      "source": [
        "Tipo de desenvolvedor"
      ]
    },
    {
      "cell_type": "code",
      "execution_count": null,
      "metadata": {
        "id": "XomMMKu6Wb4G",
        "outputId": "db932457-6614-4b4a-bfc2-461422214a3b",
        "colab": {
          "base_uri": "https://localhost:8080/"
        }
      },
      "outputs": [
        {
          "output_type": "stream",
          "name": "stdout",
          "text": [
            "0\n",
            "66484\n",
            "0.0\n"
          ]
        }
      ],
      "source": [
        "pd.reset_option(\"display.max_rows\")\n",
        "numDevType = len(df[df['TipoDev'].notna()])\n",
        "numData = len(df[df['TipoDev'].str.contains('Data', flags=re.IGNORECASE, regex=True, na = False)])\n",
        "pctData = (numData / numDevType) * 100\n",
        "print(numData)\n",
        "print(numDevType)\n",
        "print(pctData)"
      ]
    },
    {
      "cell_type": "code",
      "execution_count": null,
      "metadata": {
        "id": "nP0lBCAfW2el",
        "outputId": "81d93b26-b500-4db9-f37f-e890f60522db",
        "colab": {
          "base_uri": "https://localhost:8080/"
        }
      },
      "outputs": [
        {
          "output_type": "stream",
          "name": "stdout",
          "text": [
            "fullstack             26550\n",
            "cientista de dados    13010\n",
            "outro                 12200\n",
            "backend               10726\n",
            "frontend               3998\n",
            "Name: TipoDev, dtype: int64\n"
          ]
        }
      ],
      "source": [
        "pd.set_option(\"display.max_rows\", None)\n",
        "print(df['TipoDev'].value_counts().head(20))"
      ]
    },
    {
      "cell_type": "markdown",
      "metadata": {
        "id": "DnRmXWYDXcrz"
      },
      "source": [
        "Plotagem com Pandas"
      ]
    },
    {
      "cell_type": "code",
      "execution_count": null,
      "metadata": {
        "id": "Z-7nOOeoXcBQ",
        "outputId": "783aa3c4-5329-4cfa-d2fd-43ace939f32c",
        "colab": {
          "base_uri": "https://localhost:8080/",
          "height": 294
        }
      },
      "outputs": [
        {
          "output_type": "display_data",
          "data": {
            "text/plain": [
              "<Figure size 432x288 with 1 Axes>"
            ],
            "image/png": "[encoded data removed]"
          },
          "metadata": {
            "needs_background": "light"
          }
        }
      ],
      "source": [
        "import matplotlib.pyplot as plt\n",
        "\n",
        "plt.close(\"all\")\n",
        "\n",
        "ax = df_plot_genero.plot.bar()\n",
        "#plt.show()"
      ]
    },
    {
      "cell_type": "code",
      "execution_count": null,
      "metadata": {
        "id": "80iooUWZYC8V",
        "colab": {
          "base_uri": "https://localhost:8080/",
          "height": 347
        },
        "outputId": "7b9a39dd-f260-4add-ca4a-7395c18f79c2"
      },
      "outputs": [
        {
          "output_type": "display_data",
          "data": {
            "text/plain": [
              "<Figure size 432x288 with 1 Axes>"
            ],
            "image/png": "[encoded data removed]"
          },
          "metadata": {
            "needs_background": "light"
          }
        }
      ],
      "source": [
        "ax = df_plot_tipodev.plot.bar()"
      ]
    }
  ],
  "metadata": {
    "colab": {
      "collapsed_sections": [],
      "name": "1PF_Pandas_analise_plotagem_stack_overflow_2021.ipynb",
      "provenance": []
    },
    "kernelspec": {
      "display_name": "Python 3",
      "name": "python3"
    },
    "language_info": {
      "name": "python"
    }
  },
  "nbformat": 4,
  "nbformat_minor": 0
}